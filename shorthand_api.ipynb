{
 "cells": [
  {
   "cell_type": "code",
   "execution_count": 95,
   "metadata": {},
   "outputs": [],
   "source": [
    "import pandas as pd\n",
    "import plotly.graph_objs as go\n",
    "import ipywidgets as widgets"
   ]
  },
  {
   "cell_type": "code",
   "execution_count": 2,
   "metadata": {},
   "outputs": [],
   "source": [
    "import plotly_express as px\n",
    "gapminder = px.data.gapminder()"
   ]
  },
  {
   "cell_type": "code",
   "execution_count": 107,
   "metadata": {},
   "outputs": [],
   "source": [
    "\n",
    "\n",
    "def add_trace(src=(), figure=None, **kwargs):\n",
    "    method = getattr(figure, 'add_{}'.format(kwargs['type']))\n",
    "    trace = method()\n",
    "    with figure.batch_update():\n",
    "        for name, value in kwargs.items():\n",
    "            config = flat_to_nested(name, src[value] if (isinstance(value,str) and value in src) else value)\n",
    "            trace.update(config)\n",
    "    return trace"
   ]
  },
  {
   "cell_type": "code",
   "execution_count": 86,
   "metadata": {},
   "outputs": [],
   "source": [
    "def flat_to_nested(key, value):\n",
    "    names =key.split('_')\n",
    "    key = names.pop()\n",
    "    d = {key: value}\n",
    "    while len(names)>0:\n",
    "        key = names.pop()\n",
    "        d = {key: d}\n",
    "    return d"
   ]
  },
  {
   "cell_type": "code",
   "execution_count": 87,
   "metadata": {},
   "outputs": [],
   "source": [
    "a = ['a','b','c']"
   ]
  },
  {
   "cell_type": "code",
   "execution_count": 88,
   "metadata": {},
   "outputs": [
    {
     "data": {
      "text/plain": [
       "'c'"
      ]
     },
     "execution_count": 88,
     "metadata": {},
     "output_type": "execute_result"
    }
   ],
   "source": [
    "a.pop()"
   ]
  },
  {
   "cell_type": "code",
   "execution_count": 89,
   "metadata": {},
   "outputs": [
    {
     "data": {
      "text/plain": [
       "{'marker': {'size': 10}}"
      ]
     },
     "execution_count": 89,
     "metadata": {},
     "output_type": "execute_result"
    }
   ],
   "source": [
    "nest_kwarg('marker_size', 10)"
   ]
  },
  {
   "cell_type": "code",
   "execution_count": 90,
   "metadata": {},
   "outputs": [
    {
     "data": {
      "text/plain": [
       "True"
      ]
     },
     "execution_count": 90,
     "metadata": {},
     "output_type": "execute_result"
    }
   ],
   "source": [
    "'x' in data"
   ]
  },
  {
   "cell_type": "code",
   "execution_count": 120,
   "metadata": {},
   "outputs": [
    {
     "data": {
      "application/vnd.jupyter.widget-view+json": {
       "model_id": "c493e9817c1e456494cbe87615c674e8",
       "version_major": 2,
       "version_minor": 0
      },
      "text/plain": [
       "VBox(children=(FloatSlider(value=5.0, max=25.0, min=5.0), FigureWidget({\n",
       "    'data': [{'line': {'color': 'red'…"
      ]
     },
     "metadata": {},
     "output_type": "display_data"
    }
   ],
   "source": [
    "fig = go.FigureWidget()\n",
    "data = dict(x=[1,2,3], y=[1,2,3], d=[100, 500, 1000])\n",
    "widgets.VBox([\n",
    "    connect(\n",
    "        widgets.FloatSlider(min=5, max=25), \n",
    "        add_trace(\n",
    "            data, \n",
    "            fig, \n",
    "            type='scatter', \n",
    "            x='x', \n",
    "            y='y', \n",
    "            marker_size='d', \n",
    "            marker_sizeref=10, \n",
    "            marker_sizemode='area', \n",
    "            line_color='red'\n",
    "        ), \n",
    "        marker_size='value'),\n",
    "    fig\n",
    "])\n"
   ]
  },
  {
   "cell_type": "code",
   "execution_count": 109,
   "metadata": {},
   "outputs": [
    {
     "data": {
      "text/plain": [
       "Scatter({\n",
       "    'line': {'color': 'red'},\n",
       "    'marker': {'size': [100, 500, 1000], 'sizemode': 'area', 'sizeref': 10},\n",
       "    'uid': '938bc326-4e81-41d8-8a97-87316939a164',\n",
       "    'x': [1, 2, 3],\n",
       "    'y': [1, 2, 3]\n",
       "})"
      ]
     },
     "execution_count": 109,
     "metadata": {},
     "output_type": "execute_result"
    }
   ],
   "source": [
    "trace"
   ]
  },
  {
   "cell_type": "code",
   "execution_count": 94,
   "metadata": {},
   "outputs": [],
   "source": [
    "pd.DataFrame(data).pipe(add_trace, \n",
    "                        fig, \n",
    "                        type='scatter', \n",
    "                        x='x', \n",
    "                        y='y', \n",
    "                        marker_size='d', \n",
    "                        marker_sizeref=10, \n",
    "                        marker_sizemode='area', \n",
    "                        line_color='blue')"
   ]
  },
  {
   "cell_type": "code",
   "execution_count": null,
   "metadata": {},
   "outputs": [],
   "source": []
  },
  {
   "cell_type": "code",
   "execution_count": 112,
   "metadata": {},
   "outputs": [],
   "source": [
    "def connect(w, trace, **kwargs):\n",
    "    for key, names in kwargs.items():\n",
    "        w.observe(lambda change: trace.update(flat_to_nested(key, change['new'])), names=names)\n",
    "    return w"
   ]
  },
  {
   "cell_type": "code",
   "execution_count": 113,
   "metadata": {},
   "outputs": [
    {
     "data": {
      "application/vnd.jupyter.widget-view+json": {
       "model_id": "4dcc143fd80f4364b09d16ba09425e6c",
       "version_major": 2,
       "version_minor": 0
      },
      "text/plain": [
       "FloatSlider(value=5.0, max=25.0, min=5.0)"
      ]
     },
     "metadata": {},
     "output_type": "display_data"
    }
   ],
   "source": []
  },
  {
   "cell_type": "code",
   "execution_count": null,
   "metadata": {},
   "outputs": [],
   "source": []
  }
 ],
 "metadata": {
  "kernelspec": {
   "display_name": "Python 3",
   "language": "python",
   "name": "python3"
  },
  "language_info": {
   "codemirror_mode": {
    "name": "ipython",
    "version": 3
   },
   "file_extension": ".py",
   "mimetype": "text/x-python",
   "name": "python",
   "nbconvert_exporter": "python",
   "pygments_lexer": "ipython3",
   "version": "3.6.8"
  }
 },
 "nbformat": 4,
 "nbformat_minor": 2
}

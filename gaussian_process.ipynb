{
 "cells": [
  {
   "cell_type": "code",
   "execution_count": 30,
   "metadata": {},
   "outputs": [],
   "source": [
    "from webcolors import name_to_rgb\n",
    "import plotly.io as pio\n"
   ]
  },
  {
   "cell_type": "code",
   "execution_count": null,
   "metadata": {},
   "outputs": [],
   "source": []
  },
  {
   "cell_type": "code",
   "execution_count": null,
   "metadata": {
    "slideshow": {
     "slide_type": "slide"
    }
   },
   "outputs": [],
   "source": [
    "%matplotlib inline\n",
    "import numpy as np\n",
    "import pandas as pd\n",
    "import plotly_express as px\n",
    "import plotly.graph_objs as go\n",
    "# https://blog.dominodatalab.com/fitting-gaussian-process-models-python/\n",
    "def exponential_cov(x, y, params):\n",
    "    return params[0] * np.exp( -0.5 * params[1] * np.subtract.outer(x, y)**2)\n",
    "\n",
    "def conditional(x_new, x, y, params):\n",
    " \n",
    "    B = exponential_cov(x_new, x, params)\n",
    "    C = exponential_cov(x, x, params)\n",
    "    A = exponential_cov(x_new, x_new, params)\n",
    "\n",
    "    mu = np.linalg.inv(C).dot(B.T).T.dot(y)\n",
    "    sigma = A - B.dot(np.linalg.inv(C).dot(B.T))\n",
    "\n",
    "    return(mu.squeeze(), sigma.squeeze())"
   ]
  },
  {
   "cell_type": "code",
   "execution_count": null,
   "metadata": {},
   "outputs": [],
   "source": [
    "import matplotlib.pylab as plt\n",
    " \n",
    "θ = [1, 10]\n",
    "σ_0 = exponential_cov(0, 0, θ)\n",
    "xpts = np.arange(-3, 3, step=0.01)\n",
    "plt.errorbar(xpts, np.zeros(len(xpts)), yerr=σ_0, capsize=0)\n"
   ]
  },
  {
   "cell_type": "code",
   "execution_count": null,
   "metadata": {},
   "outputs": [],
   "source": [
    "x = [1.]\n",
    "y = [np.random.normal(scale=σ_0)]\n",
    "σ_1 = exponential_cov(x, x, θ)\n",
    " \n",
    "def predict(x, data, kernel, params, sigma, t):\n",
    "    k = [kernel(x, y, params) for y in data]\n",
    "    Sinv = np.linalg.inv(sigma)\n",
    "    y_pred = np.dot(k, Sinv).dot(t)\n",
    "    sigma_new = kernel(x, x, params) - np.dot(k, Sinv).dot(k)\n",
    "    return y_pred, sigma_new\n",
    " \n",
    "x_pred = np.linspace(-3, 3, 1000)\n",
    "predictions = [predict(i, x, exponential_cov, θ, σ_1, y) for i in x_pred]\n",
    "\n",
    "y_pred, sigmas = np.transpose(predictions)\n",
    "plt.errorbar(x_pred, y_pred, yerr=sigmas, capsize=0)\n",
    "plt.plot(x, y, \"ro\")"
   ]
  },
  {
   "cell_type": "code",
   "execution_count": null,
   "metadata": {},
   "outputs": [],
   "source": [
    "m, s = conditional([-0.7], x, y, θ)\n",
    "y2 = np.random.normal(m, s)"
   ]
  },
  {
   "cell_type": "code",
   "execution_count": null,
   "metadata": {},
   "outputs": [],
   "source": [
    "x.append(-0.7)\n",
    "y.append(y2)\n",
    " \n",
    "σ_2 = exponential_cov(x, x, θ)\n",
    "predictions = [predict(i, x, exponential_cov, θ, σ_2, y) for i in x_pred]\n",
    "\n",
    "y_pred, sigmas = np.transpose(predictions)\n",
    "plt.errorbar(x_pred, y_pred, yerr=sigmas, capsize=0)\n",
    "plt.plot(x, y, \"ro\")"
   ]
  },
  {
   "cell_type": "code",
   "execution_count": null,
   "metadata": {},
   "outputs": [],
   "source": [
    "x_more = [-2.1, -1.5, 0.3, 1.8, 2.5]\n",
    "mu, s = conditional(x_more, x, y, θ)\n",
    "y_more = np.random.multivariate_normal(mu, s)\n",
    "y_more"
   ]
  },
  {
   "cell_type": "code",
   "execution_count": null,
   "metadata": {},
   "outputs": [],
   "source": [
    "x += x_more\n",
    "y += y_more.tolist()\n",
    " \n",
    "σ_new = exponential_cov(x, x, θ)\n",
    "predictions = [predict(i, x, exponential_cov, θ, σ_new, y) for i in x_pred]\n",
    " \n",
    "y_pred, sigmas = np.transpose(predictions)\n",
    "plt.errorbar(x_pred, y_pred, yerr=sigmas, capsize=0)\n",
    "plt.plot(x, y, \"ro\")"
   ]
  },
  {
   "cell_type": "code",
   "execution_count": null,
   "metadata": {
    "slideshow": {
     "slide_type": "slide"
    }
   },
   "outputs": [],
   "source": [
    "df = pd.DataFrame(dict(x_pred=x_pred, y_pred=y_pred, sigmas=sigmas))"
   ]
  },
  {
   "cell_type": "code",
   "execution_count": null,
   "metadata": {},
   "outputs": [],
   "source": []
  },
  {
   "cell_type": "code",
   "execution_count": null,
   "metadata": {},
   "outputs": [],
   "source": [
    "trace_mean = go.Scatter(\n",
    "    x=df.x_pred,\n",
    "    y=df.y_pred,\n",
    "    mode='lines',\n",
    "    line=dict(color='rgb(231,107,243)'),\n",
    "    name='mean',\n",
    ")"
   ]
  },
  {
   "cell_type": "code",
   "execution_count": null,
   "metadata": {
    "slideshow": {
     "slide_type": "fragment"
    }
   },
   "outputs": [],
   "source": [
    "trace_upper = go.Scatter(\n",
    "    x=df.x_pred,\n",
    "    y=df.y_pred+sigmas,\n",
    "    mode='lines',\n",
    "    line=dict(color='rgba(231,107,243,0.25)'),\n",
    "    name='upper bound',\n",
    "    showlegend=False,\n",
    ")"
   ]
  },
  {
   "cell_type": "code",
   "execution_count": null,
   "metadata": {
    "slideshow": {
     "slide_type": "fragment"
    }
   },
   "outputs": [],
   "source": [
    "trace_lower = go.Scatter(\n",
    "    x=df.x_pred,\n",
    "    y=df.y_pred-sigmas,\n",
    "    mode='lines',\n",
    "    line=dict(color='rgba(231,107,243,0.25)'),\n",
    "    name='lower bound',\n",
    "    fill='tonexty',\n",
    "    fillcolor='rgba(231,107,243,0.2)',\n",
    "    showlegend=False,\n",
    ")"
   ]
  },
  {
   "cell_type": "code",
   "execution_count": 22,
   "metadata": {
    "slideshow": {
     "slide_type": "slide"
    }
   },
   "outputs": [
    {
     "data": {
      "application/vnd.jupyter.widget-view+json": {
       "model_id": "276c4af993c84da099587b2ac65f1605",
       "version_major": 2,
       "version_minor": 0
      },
      "text/plain": [
       "FigureWidget({\n",
       "    'data': [{'line': {'color': 'rgb(231,107,243)'},\n",
       "              'mode': 'lines',\n",
       "           …"
      ]
     },
     "metadata": {},
     "output_type": "display_data"
    }
   ],
   "source": [
    "fig = go.FigureWidget(\n",
    "    data=[trace_mean,trace_upper,trace_lower],\n",
    "    layout=dict(\n",
    "        height=800, \n",
    "        xaxis=dict(title='x'), \n",
    "        yaxis=dict(title='pred y'))\n",
    ")\n",
    "fig"
   ]
  },
  {
   "cell_type": "code",
   "execution_count": 23,
   "metadata": {},
   "outputs": [],
   "source": [
    "fig.layout.font.size = 16"
   ]
  },
  {
   "cell_type": "code",
   "execution_count": 33,
   "metadata": {
    "slideshow": {
     "slide_type": "slide"
    }
   },
   "outputs": [],
   "source": [
    "continuous_error_bars = dict(\n",
    "    data = dict(\n",
    "        scatter=[\n",
    "            dict(\n",
    "                name='mean',\n",
    "                mode='lines',\n",
    "                line=dict(\n",
    "                    color='rgb(231, 107, 243)',\n",
    "                ),\n",
    "            ),\n",
    "            dict(\n",
    "                mode='lines',\n",
    "                name='upper bound',\n",
    "                showlegend=False,\n",
    "                line=dict(\n",
    "                    color='rgba(231,107,243,0.25)',\n",
    "                ),\n",
    "            ),\n",
    "            dict(\n",
    "                mode='lines',\n",
    "                line=dict(color='rgba(231,107,243,0.25)'),\n",
    "                name='lower bound',\n",
    "                fill='tonexty',\n",
    "                fillcolor='rgba(231,107,243,0.2)',\n",
    "                showlegend=False,\n",
    "            )\n",
    "        ]\n",
    "    ),\n",
    "    layout= dict(\n",
    "        height=800, \n",
    "        xaxis=dict(title='x'), \n",
    "        yaxis=dict(title='pred y')\n",
    "    )\n",
    ")\n",
    "pio.templates['continuous_error_bars'] = continuous_error_bars"
   ]
  },
  {
   "cell_type": "code",
   "execution_count": 40,
   "metadata": {
    "slideshow": {
     "slide_type": "slide"
    }
   },
   "outputs": [
    {
     "data": {
      "application/vnd.jupyter.widget-view+json": {
       "model_id": "a0f22b9c73e44929a0400eef3398d485",
       "version_major": 2,
       "version_minor": 0
      },
      "text/plain": [
       "FigureWidget({\n",
       "    'data': [{'type': 'scatter',\n",
       "              'uid': '58082e4e-ae62-4bc5-af87-d0b09e170118',\n",
       " …"
      ]
     },
     "metadata": {},
     "output_type": "display_data"
    }
   ],
   "source": [
    "fig = go.FigureWidget(\n",
    "    data=[\n",
    "        dict(\n",
    "            x=df.x_pred,\n",
    "            y=df.y_pred,\n",
    "        ),\n",
    "        dict(\n",
    "            x=df.x_pred,\n",
    "            y=df.y_pred+sigmas),\n",
    "        dict(    \n",
    "            x=df.x_pred,\n",
    "            y=df.y_pred-sigmas)\n",
    "    ],\n",
    ")\n",
    "fig.layout.template = 'plotly_dark+continuous_error_bars+presentation'\n",
    "fig"
   ]
  },
  {
   "cell_type": "code",
   "execution_count": 58,
   "metadata": {},
   "outputs": [],
   "source": [
    "pink = name_to_rgb('pink')\n",
    "pink_rgb_str = 'rgb({r}, {g}, {b})'.format(r=pink.red,g=pink.green,b=pink.blue)\n",
    "pink_rgba_str = 'rgba({r}, {g}, {b}, {a})'.format(r=pink.red,g=pink.green,b=pink.blue, a=0.25)\n",
    "pink_fill_rgba_str = 'rgba({r}, {g}, {b}, {a})'.format(r=pink.red,g=pink.green,b=pink.blue, a=0.2)\n",
    "pink_lines = dict(\n",
    "    data = dict(\n",
    "        scatter=[\n",
    "            dict(\n",
    "                line=dict(\n",
    "                    color=pink_rgb_str,\n",
    "                ),\n",
    "            ),\n",
    "            dict(\n",
    "                line=dict(\n",
    "                    color=pink_rgba_str,\n",
    "                ),\n",
    "            ),\n",
    "            dict(\n",
    "                line=dict(color=pink_rgba_str),\n",
    "                fillcolor=pink_fill_rgba_str,\n",
    "            )\n",
    "        ]\n",
    "    ),\n",
    ")\n",
    "pio.templates['pink_lines'] = pink_lines"
   ]
  },
  {
   "cell_type": "code",
   "execution_count": 93,
   "metadata": {},
   "outputs": [],
   "source": [
    "def line_color_template_factory(color):\n",
    "    pink = name_to_rgb(color)\n",
    "    pink_rgb_str = 'rgb({r}, {g}, {b})'.format(r=pink.red,g=pink.green,b=pink.blue)\n",
    "    pink_rgba_str = 'rgba({r}, {g}, {b}, {a})'.format(r=pink.red,g=pink.green,b=pink.blue, a=0.25)\n",
    "    pink_fill_rgba_str = 'rgba({r}, {g}, {b}, {a})'.format(r=pink.red,g=pink.green,b=pink.blue, a=0.2)\n",
    "    pink_lines = dict(\n",
    "        data = dict(\n",
    "            scatter=[\n",
    "                dict(\n",
    "                    line=dict(\n",
    "                        color=pink_rgb_str,\n",
    "                    ),\n",
    "                ),\n",
    "                dict(\n",
    "                    line=dict(\n",
    "                        color=pink_rgba_str,\n",
    "                    ),\n",
    "                ),\n",
    "                dict(\n",
    "                    line=dict(color=pink_rgba_str),\n",
    "                    fillcolor=pink_fill_rgba_str,\n",
    "                )\n",
    "            ]\n",
    "        ),\n",
    "    )\n",
    "    #pio.templates['{}_lines'.format(color)] = pink_lines\n",
    "    #return '{}_lines'.format(color)\n",
    "    return pink_lines"
   ]
  },
  {
   "cell_type": "code",
   "execution_count": 129,
   "metadata": {
    "slideshow": {
     "slide_type": "skip"
    }
   },
   "outputs": [],
   "source": [
    "continuous_error_bars = dict(\n",
    "    data = dict(\n",
    "        scatter=[\n",
    "            dict(\n",
    "                name='mean',\n",
    "                mode='lines',\n",
    "            ),\n",
    "            dict(\n",
    "                mode='lines',\n",
    "                name='upper bound',\n",
    "                showlegend=False,\n",
    "            ),\n",
    "            dict(\n",
    "                mode='lines',\n",
    "                name='lower bound',\n",
    "                fill='tonexty',\n",
    "                showlegend=False,\n",
    "            )\n",
    "        ]\n",
    "    ),\n",
    "    layout= dict(\n",
    "        height=800, \n",
    "        xaxis=dict(title='x'), \n",
    "        yaxis=dict(title='pred y'),\n",
    "        hovermode='x',\n",
    "    )\n",
    ")\n",
    "pio.templates['continuous_error_bars'] = continuous_error_bars"
   ]
  },
  {
   "cell_type": "code",
   "execution_count": 200,
   "metadata": {
    "slideshow": {
     "slide_type": "slide"
    }
   },
   "outputs": [],
   "source": [
    "def line(df, x, y, error_y, color='blue', template='plotly_white',**layout):\n",
    "    line_color_template = line_color_template_factory(color)\n",
    "    fig = go.FigureWidget(\n",
    "        data=[\n",
    "            dict(\n",
    "                x=df[x],\n",
    "                y=df[y],\n",
    "            ),\n",
    "            dict(\n",
    "                x=df[x],\n",
    "                y=df[y]+df[error_y]),\n",
    "            dict(\n",
    "                x=df[x],\n",
    "                y=df[y]-df[error_y])\n",
    "        ],\n",
    "        layout=layout,\n",
    "    )\n",
    "    fig.layout.template.update(line_color_template)\n",
    "    for t in template.split('+'):\n",
    "        fig.layout.template.update(pio.templates[t])\n",
    "    fig.layout.template.update(continuous_error_bars)\n",
    "    return fig"
   ]
  },
  {
   "cell_type": "code",
   "execution_count": 229,
   "metadata": {},
   "outputs": [],
   "source": [
    "def linec(df, fig, x, y, error_y, color='blue', template='plotly_white',**layout):\n",
    "    line_color_template = line_color_template_factory(color)\n",
    "#     fig = go.FigureWidget(\n",
    "    data=(\n",
    "        dict(\n",
    "            type='scatter',\n",
    "            x=df[x],\n",
    "            y=df[y],\n",
    "        ),\n",
    "        dict(\n",
    "            type='scatter',\n",
    "            x=df[x],\n",
    "            y=df[y]+df[error_y]),\n",
    "        dict(\n",
    "            type='scatter',\n",
    "            x=df[x],\n",
    "            y=df[y]-df[error_y])\n",
    "    )\n",
    "#         layout=layout,\n",
    "#     )\n",
    "    fig = go.FigureWidget(data=fig.data+data, layout=fig.layout)\n",
    "    fig.layout.template.update(line_color_template)\n",
    "    for t in template.split('+'):\n",
    "        fig.layout.template.update(pio.templates[t])\n",
    "    fig.layout.template.update(continuous_error_bars)\n",
    "    return fig"
   ]
  },
  {
   "cell_type": "code",
   "execution_count": 231,
   "metadata": {},
   "outputs": [
    {
     "data": {
      "application/vnd.jupyter.widget-view+json": {
       "model_id": "96a3fef70a384395aa6a407278f83763",
       "version_major": 2,
       "version_minor": 0
      },
      "text/plain": [
       "FigureWidget({\n",
       "    'data': [{'type': 'scatter',\n",
       "              'uid': '3f598a48-c06b-4037-bf9d-d0211cd2b949',\n",
       " …"
      ]
     },
     "metadata": {},
     "output_type": "display_data"
    }
   ],
   "source": [
    "fig = go.FigureWidget()\n",
    "fig = df.pipe(linec, fig, x='x_pred', y='y_pred', error_y='sigmas', color='limegreen', template='ggplot2+presentation', width=1500, height=800)\n",
    "fig"
   ]
  },
  {
   "cell_type": "code",
   "execution_count": 201,
   "metadata": {},
   "outputs": [
    {
     "data": {
      "application/vnd.jupyter.widget-view+json": {
       "model_id": "3f7f5cdeb70d455d84faaecee0bd6024",
       "version_major": 2,
       "version_minor": 0
      },
      "text/plain": [
       "FigureWidget({\n",
       "    'data': [{'type': 'scatter',\n",
       "              'uid': 'c09d3a4d-b781-4da4-bf31-4fc873c7f8d0',\n",
       " …"
      ]
     },
     "metadata": {},
     "output_type": "display_data"
    }
   ],
   "source": [
    "fig = df.pipe(line, x='x_pred', y='y_pred', error_y='sigmas', color='limegreen', template='ggplot2+presentation', width=1500, height=800)\n",
    "fig"
   ]
  },
  {
   "cell_type": "code",
   "execution_count": 92,
   "metadata": {},
   "outputs": [
    {
     "data": {
      "text/plain": [
       "{'data': {'scatter': [{'line': {'color': 'rgb(255, 192, 203)'}},\n",
       "   {'line': {'color': 'rgba(255, 192, 203, 0.25)'}},\n",
       "   {'line': {'color': 'rgba(255, 192, 203, 0.25)'},\n",
       "    'fillcolor': 'rgba(255, 192, 203, 0.2)'}]},\n",
       " 'layout': {'height': 800,\n",
       "  'xaxis': {'title': 'x'},\n",
       "  'yaxis': {'title': 'pred y'}}}"
      ]
     },
     "execution_count": 92,
     "metadata": {},
     "output_type": "execute_result"
    }
   ],
   "source": [
    "continuous_error_bars.update(pink_lines)\n",
    "continuous_error_bars"
   ]
  },
  {
   "cell_type": "code",
   "execution_count": 108,
   "metadata": {},
   "outputs": [
    {
     "data": {
      "text/plain": [
       "{'data': {'scatter': [{'name': 'mean', 'mode': 'lines'},\n",
       "   {'mode': 'lines', 'name': 'upper bound', 'showlegend': False},\n",
       "   {'mode': 'lines',\n",
       "    'name': 'lower bound',\n",
       "    'fill': 'tonexty',\n",
       "    'showlegend': False}]},\n",
       " 'layout': {'height': 800,\n",
       "  'xaxis': {'title': 'x'},\n",
       "  'yaxis': {'title': 'pred y'}}}"
      ]
     },
     "execution_count": 108,
     "metadata": {},
     "output_type": "execute_result"
    }
   ],
   "source": [
    "continuous_error_bars"
   ]
  },
  {
   "cell_type": "code",
   "execution_count": 86,
   "metadata": {},
   "outputs": [
    {
     "data": {
      "text/plain": [
       "layout.Template({\n",
       "    'data': {'bar': [{'marker': {'line': {'color': 'rgb(17,17,17)', 'width': 0.5}}, 'type': 'bar'}],\n",
       "             'barpolar': [{'marker': {'line': {'color': 'rgb(17,17,17)', 'width': 0.5}}, 'type': 'barpolar'}],\n",
       "             'carpet': [{'aaxis': {'endlinecolor': '#A2B1C6',\n",
       "                                   'gridcolor': '#506784',\n",
       "                                   'linecolor': '#506784',\n",
       "                                   'minorgridcolor': '#506784',\n",
       "                                   'startlinecolor': '#A2B1C6'},\n",
       "                         'baxis': {'endlinecolor': '#A2B1C6',\n",
       "                                   'gridcolor': '#506784',\n",
       "                                   'linecolor': '#506784',\n",
       "                                   'minorgridcolor': '#506784',\n",
       "                                   'startlinecolor': '#A2B1C6'},\n",
       "                         'type': 'carpet'}],\n",
       "             'choropleth': [{'colorbar': {'outlinewidth': 0, 'ticks': ''}, 'type': 'choropleth'}],\n",
       "             'contour': [{'colorbar': {'outlinewidth': 0, 'ticks': ''},\n",
       "                          'colorscale': [[0.0, '#0508b8'], [0.0893854748603352,\n",
       "                                         '#1910d8'], [0.1787709497206704,\n",
       "                                         '#3c19f0'], [0.2681564245810056,\n",
       "                                         '#6b1cfb'], [0.3575418994413408,\n",
       "                                         '#981cfd'], [0.44692737430167595,\n",
       "                                         '#bf1cfd'], [0.5363128491620112,\n",
       "                                         '#dd2bfd'], [0.6256983240223464,\n",
       "                                         '#f246fe'], [0.7150837988826816,\n",
       "                                         '#fc67fd'], [0.8044692737430168,\n",
       "                                         '#fe88fc'], [0.8938547486033519,\n",
       "                                         '#fea5fd'], [0.9832402234636871,\n",
       "                                         '#febefe'], [1.0, '#fec3fe']],\n",
       "                          'type': 'contour'}],\n",
       "             'contourcarpet': [{'colorbar': {'outlinewidth': 0, 'ticks': ''}, 'type': 'contourcarpet'}],\n",
       "             'heatmap': [{'colorbar': {'outlinewidth': 0, 'ticks': ''},\n",
       "                          'colorscale': [[0.0, '#0508b8'], [0.0893854748603352,\n",
       "                                         '#1910d8'], [0.1787709497206704,\n",
       "                                         '#3c19f0'], [0.2681564245810056,\n",
       "                                         '#6b1cfb'], [0.3575418994413408,\n",
       "                                         '#981cfd'], [0.44692737430167595,\n",
       "                                         '#bf1cfd'], [0.5363128491620112,\n",
       "                                         '#dd2bfd'], [0.6256983240223464,\n",
       "                                         '#f246fe'], [0.7150837988826816,\n",
       "                                         '#fc67fd'], [0.8044692737430168,\n",
       "                                         '#fe88fc'], [0.8938547486033519,\n",
       "                                         '#fea5fd'], [0.9832402234636871,\n",
       "                                         '#febefe'], [1.0, '#fec3fe']],\n",
       "                          'type': 'heatmap'}],\n",
       "             'heatmapgl': [{'colorbar': {'outlinewidth': 0, 'ticks': ''}, 'type': 'heatmapgl'}],\n",
       "             'histogram': [{'marker': {'colorbar': {'outlinewidth': 0, 'ticks': ''}}, 'type': 'histogram'}],\n",
       "             'histogram2d': [{'colorbar': {'outlinewidth': 0, 'ticks': ''},\n",
       "                              'colorscale': [[0.0, '#0508b8'],\n",
       "                                             [0.0893854748603352, '#1910d8'],\n",
       "                                             [0.1787709497206704, '#3c19f0'],\n",
       "                                             [0.2681564245810056, '#6b1cfb'],\n",
       "                                             [0.3575418994413408, '#981cfd'],\n",
       "                                             [0.44692737430167595, '#bf1cfd'],\n",
       "                                             [0.5363128491620112, '#dd2bfd'],\n",
       "                                             [0.6256983240223464, '#f246fe'],\n",
       "                                             [0.7150837988826816, '#fc67fd'],\n",
       "                                             [0.8044692737430168, '#fe88fc'],\n",
       "                                             [0.8938547486033519, '#fea5fd'],\n",
       "                                             [0.9832402234636871, '#febefe'], [1.0,\n",
       "                                             '#fec3fe']],\n",
       "                              'type': 'histogram2d'}],\n",
       "             'histogram2dcontour': [{'colorbar': {'outlinewidth': 0, 'ticks': ''},\n",
       "                                     'colorscale': [[0.0, '#0508b8'],\n",
       "                                                    [0.0893854748603352,\n",
       "                                                    '#1910d8'],\n",
       "                                                    [0.1787709497206704,\n",
       "                                                    '#3c19f0'],\n",
       "                                                    [0.2681564245810056,\n",
       "                                                    '#6b1cfb'],\n",
       "                                                    [0.3575418994413408,\n",
       "                                                    '#981cfd'],\n",
       "                                                    [0.44692737430167595,\n",
       "                                                    '#bf1cfd'],\n",
       "                                                    [0.5363128491620112,\n",
       "                                                    '#dd2bfd'],\n",
       "                                                    [0.6256983240223464,\n",
       "                                                    '#f246fe'],\n",
       "                                                    [0.7150837988826816,\n",
       "                                                    '#fc67fd'],\n",
       "                                                    [0.8044692737430168,\n",
       "                                                    '#fe88fc'],\n",
       "                                                    [0.8938547486033519,\n",
       "                                                    '#fea5fd'],\n",
       "                                                    [0.9832402234636871,\n",
       "                                                    '#febefe'], [1.0, '#fec3fe']],\n",
       "                                     'type': 'histogram2dcontour'}],\n",
       "             'mesh3d': [{'colorbar': {'outlinewidth': 0, 'ticks': ''}, 'type': 'mesh3d'}],\n",
       "             'parcoords': [{'line': {'colorbar': {'outlinewidth': 0, 'ticks': ''}}, 'type': 'parcoords'}],\n",
       "             'scatter': [{'line': {'color': 'rgb(50, 205, 50)'},\n",
       "                          'marker': {'line': {'color': '#283442'}},\n",
       "                          'mode': 'lines',\n",
       "                          'name': 'mean',\n",
       "                          'type': 'scatter'},\n",
       "                         {'line': {'color': 'rgba(50, 205, 50, 0.25)'},\n",
       "                          'marker': {'line': {'color': '#283442'}},\n",
       "                          'mode': 'lines',\n",
       "                          'name': 'upper bound',\n",
       "                          'showlegend': False,\n",
       "                          'type': 'scatter'},\n",
       "                         {'fill': 'tonexty',\n",
       "                          'fillcolor': 'rgba(50, 205, 50, 0.2)',\n",
       "                          'line': {'color': 'rgba(50, 205, 50, 0.25)'},\n",
       "                          'marker': {'line': {'color': '#283442'}},\n",
       "                          'mode': 'lines',\n",
       "                          'name': 'lower bound',\n",
       "                          'showlegend': False,\n",
       "                          'type': 'scatter'}],\n",
       "             'scatter3d': [{'marker': {'colorbar': {'outlinewidth': 0, 'ticks': ''}}, 'type': 'scatter3d'}],\n",
       "             'scattercarpet': [{'marker': {'colorbar': {'outlinewidth': 0, 'ticks': ''}}, 'type': 'scattercarpet'}],\n",
       "             'scattergeo': [{'marker': {'colorbar': {'outlinewidth': 0, 'ticks': ''}}, 'type': 'scattergeo'}],\n",
       "             'scattergl': [{'marker': {'line': {'color': '#283442'}}, 'type': 'scattergl'}],\n",
       "             'scattermapbox': [{'marker': {'colorbar': {'outlinewidth': 0, 'ticks': ''}}, 'type': 'scattermapbox'}],\n",
       "             'scatterpolar': [{'marker': {'colorbar': {'outlinewidth': 0, 'ticks': ''}}, 'type': 'scatterpolar'}],\n",
       "             'scatterpolargl': [{'marker': {'colorbar': {'outlinewidth': 0, 'ticks': ''}}, 'type': 'scatterpolargl'}],\n",
       "             'scatterternary': [{'marker': {'colorbar': {'outlinewidth': 0, 'ticks': ''}}, 'type': 'scatterternary'}],\n",
       "             'surface': [{'colorbar': {'outlinewidth': 0, 'ticks': ''}, 'type': 'surface'}],\n",
       "             'table': [{'cells': {'fill': {'color': '#506784'}, 'line': {'color': 'rgb(17,17,17)'}},\n",
       "                        'header': {'fill': {'color': '#2a3f5f'}, 'line': {'color': 'rgb(17,17,17)'}},\n",
       "                        'type': 'table'}]},\n",
       "    'layout': {'annotationdefaults': {'arrowcolor': '#f2f5fa', 'arrowhead': 0, 'arrowwidth': 1},\n",
       "               'colorscale': {'diverging': [[0, '#8e0152'], [0.1, '#c51b7d'],\n",
       "                                            [0.2, '#de77ae'], [0.3, '#f1b6da'],\n",
       "                                            [0.4, '#fde0ef'], [0.5, '#f7f7f7'],\n",
       "                                            [0.6, '#e6f5d0'], [0.7, '#b8e186'],\n",
       "                                            [0.8, '#7fbc41'], [0.9, '#4d9221'], [1,\n",
       "                                            '#276419']],\n",
       "                              'sequential': [[0.0, '#0508b8'],\n",
       "                                             [0.0893854748603352, '#1910d8'],\n",
       "                                             [0.1787709497206704, '#3c19f0'],\n",
       "                                             [0.2681564245810056, '#6b1cfb'],\n",
       "                                             [0.3575418994413408, '#981cfd'],\n",
       "                                             [0.44692737430167595, '#bf1cfd'],\n",
       "                                             [0.5363128491620112, '#dd2bfd'],\n",
       "                                             [0.6256983240223464, '#f246fe'],\n",
       "                                             [0.7150837988826816, '#fc67fd'],\n",
       "                                             [0.8044692737430168, '#fe88fc'],\n",
       "                                             [0.8938547486033519, '#fea5fd'],\n",
       "                                             [0.9832402234636871, '#febefe'], [1.0,\n",
       "                                             '#fec3fe']],\n",
       "                              'sequentialminus': [[0.0, '#0508b8'],\n",
       "                                                  [0.0893854748603352, '#1910d8'],\n",
       "                                                  [0.1787709497206704, '#3c19f0'],\n",
       "                                                  [0.2681564245810056, '#6b1cfb'],\n",
       "                                                  [0.3575418994413408, '#981cfd'],\n",
       "                                                  [0.44692737430167595, '#bf1cfd'],\n",
       "                                                  [0.5363128491620112, '#dd2bfd'],\n",
       "                                                  [0.6256983240223464, '#f246fe'],\n",
       "                                                  [0.7150837988826816, '#fc67fd'],\n",
       "                                                  [0.8044692737430168, '#fe88fc'],\n",
       "                                                  [0.8938547486033519, '#fea5fd'],\n",
       "                                                  [0.9832402234636871, '#febefe'],\n",
       "                                                  [1.0, '#fec3fe']]},\n",
       "               'colorway': [#636efa, #EF553B, #00cc96, #ab63fa, #19d3f3, #e763fa,\n",
       "                            #FECB52, #FFA15A, #FF6692, #B6E880],\n",
       "               'font': {'color': '#f2f5fa'},\n",
       "               'geo': {'bgcolor': 'rgb(17,17,17)',\n",
       "                       'lakecolor': 'rgb(17,17,17)',\n",
       "                       'landcolor': 'rgb(17,17,17)',\n",
       "                       'showlakes': True,\n",
       "                       'showland': True,\n",
       "                       'subunitcolor': '#506784'},\n",
       "               'height': 800,\n",
       "               'hoverlabel': {'align': 'left'},\n",
       "               'hovermode': 'closest',\n",
       "               'mapbox': {'style': 'dark'},\n",
       "               'paper_bgcolor': 'rgb(17,17,17)',\n",
       "               'plot_bgcolor': 'rgb(17,17,17)',\n",
       "               'polar': {'angularaxis': {'gridcolor': '#506784', 'linecolor': '#506784', 'ticks': ''},\n",
       "                         'bgcolor': 'rgb(17,17,17)',\n",
       "                         'radialaxis': {'gridcolor': '#506784', 'linecolor': '#506784', 'ticks': ''}},\n",
       "               'scene': {'xaxis': {'backgroundcolor': 'rgb(17,17,17)',\n",
       "                                   'gridcolor': '#506784',\n",
       "                                   'gridwidth': 2,\n",
       "                                   'linecolor': '#506784',\n",
       "                                   'showbackground': True,\n",
       "                                   'ticks': '',\n",
       "                                   'zerolinecolor': '#C8D4E3'},\n",
       "                         'yaxis': {'backgroundcolor': 'rgb(17,17,17)',\n",
       "                                   'gridcolor': '#506784',\n",
       "                                   'gridwidth': 2,\n",
       "                                   'linecolor': '#506784',\n",
       "                                   'showbackground': True,\n",
       "                                   'ticks': '',\n",
       "                                   'zerolinecolor': '#C8D4E3'},\n",
       "                         'zaxis': {'backgroundcolor': 'rgb(17,17,17)',\n",
       "                                   'gridcolor': '#506784',\n",
       "                                   'gridwidth': 2,\n",
       "                                   'linecolor': '#506784',\n",
       "                                   'showbackground': True,\n",
       "                                   'ticks': '',\n",
       "                                   'zerolinecolor': '#C8D4E3'}},\n",
       "               'shapedefaults': {'fillcolor': '#f2f5fa', 'line': {'width': 0}, 'opacity': 0.4},\n",
       "               'sliderdefaults': {'bgcolor': '#C8D4E3', 'bordercolor': 'rgb(17,17,17)', 'borderwidth': 1, 'tickwidth': 0},\n",
       "               'ternary': {'aaxis': {'gridcolor': '#506784', 'linecolor': '#506784', 'ticks': ''},\n",
       "                           'baxis': {'gridcolor': '#506784', 'linecolor': '#506784', 'ticks': ''},\n",
       "                           'bgcolor': 'rgb(17,17,17)',\n",
       "                           'caxis': {'gridcolor': '#506784', 'linecolor': '#506784', 'ticks': ''}},\n",
       "               'title': {'x': 0.05},\n",
       "               'updatemenudefaults': {'bgcolor': '#506784', 'borderwidth': 0},\n",
       "               'xaxis': {'automargin': True,\n",
       "                         'gridcolor': '#283442',\n",
       "                         'linecolor': '#506784',\n",
       "                         'ticks': '',\n",
       "                         'title': {'text': 'x'},\n",
       "                         'zerolinecolor': '#283442',\n",
       "                         'zerolinewidth': 2},\n",
       "               'yaxis': {'automargin': True,\n",
       "                         'gridcolor': '#283442',\n",
       "                         'linecolor': '#506784',\n",
       "                         'ticks': '',\n",
       "                         'title': {'text': 'pred y'},\n",
       "                         'zerolinecolor': '#283442',\n",
       "                         'zerolinewidth': 2}}\n",
       "})"
      ]
     },
     "execution_count": 86,
     "metadata": {},
     "output_type": "execute_result"
    }
   ],
   "source": [
    "fig.layout.template.update(pio.templates['plotly_dark'])"
   ]
  },
  {
   "cell_type": "code",
   "execution_count": 246,
   "metadata": {},
   "outputs": [],
   "source": [
    "def background_images():\n",
    "    return dict(layout=dict(\n",
    "        images=[\n",
    "            dict(\n",
    "                name='background',\n",
    "                xref= \"x\",\n",
    "                yref= \"y\",\n",
    "                x= 0,\n",
    "                y= 0,\n",
    "                layer= \"below\",\n",
    "                sizing=\"stretch\",\n",
    "            ),\n",
    "            dict(\n",
    "                name='watermark',\n",
    "                xref='paper',\n",
    "                yref='paper',\n",
    "                x=.75,\n",
    "                y=0.3,\n",
    "                sizex=0.25,\n",
    "                sizey=0.25,\n",
    "                sizing=\"stretch\",\n",
    "                opacity=0.2,\n",
    "                layer=\"below\"\n",
    "            )\n",
    "        ]\n",
    "    ))\n",
    "\n",
    "images_template = dict(layout=dict(\n",
    "    images=[\n",
    "        dict(\n",
    "            name='background',\n",
    "            xref= \"x\",\n",
    "            yref= \"y\",\n",
    "            x= 0,\n",
    "            y= 0,\n",
    "            layer= \"below\",\n",
    "            sizing=\"stretch\",\n",
    "        ),\n",
    "        dict(\n",
    "            name='watermark',\n",
    "            xref='paper',\n",
    "            yref='paper',\n",
    "            x=.75,\n",
    "            y=0.3,\n",
    "            sizex=0.25,\n",
    "            sizey=0.25,\n",
    "            sizing=\"stretch\",\n",
    "            opacity=1,\n",
    "            layer=\"below\"\n",
    "        )\n",
    "    ]\n",
    "))\n",
    "pio.templates['images'] = images_template"
   ]
  },
  {
   "cell_type": "code",
   "execution_count": 237,
   "metadata": {},
   "outputs": [
    {
     "data": {
      "application/vnd.jupyter.widget-view+json": {
       "model_id": "4b0786851ff04a66bcaf4e5987559360",
       "version_major": 2,
       "version_minor": 0
      },
      "text/plain": [
       "FigureWidget({\n",
       "    'data': [{'type': 'scatter',\n",
       "              'uid': '10b00881-d5e1-4d85-b776-711cba6a29fe',\n",
       " …"
      ]
     },
     "metadata": {},
     "output_type": "display_data"
    }
   ],
   "source": [
    "import numpy as np\n",
    "from PIL import Image\n",
    "\n",
    "image_array = np.random.randint(0, 255, size=(100, 100)).astype('uint8')\n",
    "image = Image.fromarray(image_array)\n",
    "\n",
    "\n",
    "trace1= go.Scatter(x=[0,0.5,1,2,2.2],y=[1.23,2.5,0.42,3,1])\n",
    "fig=go.FigureWidget(\n",
    "    data=[trace1],\n",
    "    layout=dict(\n",
    "        images=[dict(\n",
    "            source=\"https://raw.githubusercontent.com/michaelbabyn/plot_data/master/naphthalene.png\",\n",
    "            sizex=100,\n",
    "            sizey=100,\n",
    "            templateitemname='background',\n",
    "        )],\n",
    "        xaxis=dict(range=[0,150]),\n",
    "        yaxis=dict(range=[150,0]),\n",
    "        width=800,\n",
    "        #height=800,\n",
    "        template=background_images(),\n",
    "    )\n",
    ")\n",
    "#fig.layout.template.update(background_images())\n",
    "fig"
   ]
  },
  {
   "cell_type": "code",
   "execution_count": null,
   "metadata": {},
   "outputs": [],
   "source": [
    "import scipy.misc\n",
    "scipy.misc.imresize"
   ]
  },
  {
   "cell_type": "code",
   "execution_count": 162,
   "metadata": {},
   "outputs": [
    {
     "data": {
      "text/plain": [
       "(layout.Image({\n",
       "     'layer': 'below', 'sizing': 'stretch', 'x': 0, 'xref': 'x', 'y': 0, 'yref': 'y'\n",
       " }),)"
      ]
     },
     "execution_count": 162,
     "metadata": {},
     "output_type": "execute_result"
    }
   ],
   "source": [
    "pio.templates['plotly'].layout\n",
    "fig.layout.template.layout.images"
   ]
  },
  {
   "cell_type": "code",
   "execution_count": 257,
   "metadata": {},
   "outputs": [
    {
     "data": {
      "application/vnd.jupyter.widget-view+json": {
       "model_id": "ff6e371a8d1f4fa0aa63b13da8ad5e06",
       "version_major": 2,
       "version_minor": 0
      },
      "text/plain": [
       "FigureWidget({\n",
       "    'data': [{'type': 'scatter',\n",
       "              'uid': 'd481c755-ec60-4f4c-be62-d259dcf2fce8',\n",
       " …"
      ]
     },
     "metadata": {},
     "output_type": "display_data"
    }
   ],
   "source": [
    "fig = df.pipe(\n",
    "    line, \n",
    "    x='x_pred', \n",
    "    y='y_pred', \n",
    "    error_y='sigmas', \n",
    "    color='limegreen', \n",
    "    template='images+ggplot2+presentation', \n",
    "    width=800, \n",
    "    height=800,\n",
    "    images=[dict(\n",
    "        source=\"https://raw.githubusercontent.com/michaelbabyn/plot_data/master/naphthalene.png\",\n",
    "        templateitemname='watermark',\n",
    "    )],\n",
    ")\n",
    "fig"
   ]
  },
  {
   "cell_type": "code",
   "execution_count": 258,
   "metadata": {},
   "outputs": [
    {
     "data": {
      "text/plain": [
       "Scatter({\n",
       "    'mode': 'markers',\n",
       "    'uid': '1b7c29b2-1ce7-4b59-8099-3c9844cc5054',\n",
       "    'x': [1.0, -0.7, -2.1, -1.5, 0.3, 1.8, 2.5],\n",
       "    'y': [-2.760696905467817, 1.1547042973875987, 0.2498761114900528,\n",
       "          -1.961592228048777, 0.2026166241590379, -0.39499233588427407,\n",
       "          1.319410273877994]\n",
       "})"
      ]
     },
     "execution_count": 258,
     "metadata": {},
     "output_type": "execute_result"
    }
   ],
   "source": [
    "fig.add_scatter(x=x, y=y, mode='markers')"
   ]
  },
  {
   "cell_type": "code",
   "execution_count": 516,
   "metadata": {},
   "outputs": [],
   "source": [
    "import inspect\n",
    "\n",
    "out = tuple(filter(lambda x: x[0].startswith('add'), inspect.getmembers(go.FigureWidget)))"
   ]
  },
  {
   "cell_type": "code",
   "execution_count": null,
   "metadata": {},
   "outputs": [],
   "source": []
  },
  {
   "cell_type": "code",
   "execution_count": 789,
   "metadata": {},
   "outputs": [
    {
     "name": "stderr",
     "output_type": "stream",
     "text": [
      "/opt/conda/lib/python3.6/site-packages/ipykernel_launcher.py:6: UserWarning:\n",
      "\n",
      "registration of accessor <class '__main__.PlotlyAccessor'> under name 'plot' for type <class 'pandas.core.frame.DataFrame'> is overriding a preexisting attribute with the same name.\n",
      "\n"
     ]
    }
   ],
   "source": [
    "\n",
    "def maybe_col(data, name):\n",
    "    return data[name] if name in data.columns else name\n",
    "\n",
    "@pd.api.extensions.register_dataframe_accessor(\"plot\")\n",
    "class PlotlyAccessor(object):\n",
    "    def __init__(self, pandas_obj):\n",
    "        self._obj = pandas_obj\n",
    "        self.init()\n",
    "        intercept_methods = tuple(filter(lambda x: x[0].startswith('add'), inspect.getmembers(go.FigureWidget)))\n",
    "        [setattr(self, name, self.resolves_kwargs(value)) for name, value in intercept_methods]\n",
    "        \n",
    "    \n",
    "    def _resolve_data(self, name):\n",
    "        return self._obj[name] if name in self._obj.columns else name\n",
    "        \n",
    "    def _is_valid_method(self, name):\n",
    "        return False if name.startswith('_') else True\n",
    "    \n",
    "    def show(self):\n",
    "        return self._figure\n",
    "        \n",
    "    def query(self, q):\n",
    "        self._obj = self._obj.query(q)\n",
    "        return self\n",
    "        \n",
    "        \n",
    "    def _groups_plotter(self, fn, *args, **kwargs):\n",
    "        for name, group in self._groups:\n",
    "            kw = dict([k, maybe_col(group, v) if isinstance(v,str) else v] for k,v in kwargs.items())\n",
    "            fn(self._figure, *args, name=name, **kw)\n",
    "        return self\n",
    "        \n",
    "    def resolves_kwargs(self, fn):\n",
    "        def wrapper(*args, **kwargs):\n",
    "            if self._groups is not None:\n",
    "                return self._groups_plotter(fn, *args, **kwargs)\n",
    "            fn(self._figure, *args, **dict([k, self._resolve_data(v) if isinstance(v,str) else v] for k,v in kwargs.items()))\n",
    "            return self\n",
    "        return wrapper\n",
    "\n",
    "    def layout(self, **kwargs):\n",
    "        self._figure.layout.update(kwargs)\n",
    "        return self\n",
    "    \n",
    "    def add_template(self, template):\n",
    "        self._figure.layout.template.update(template)\n",
    "        return self\n",
    "    \n",
    "    def init(self):\n",
    "        self._figure = go.FigureWidget(layout=dict(template=images_template))\n",
    "        self._groups = None\n",
    "        return self\n",
    "    \n",
    "    def clear(self):\n",
    "        self._figure.update(data=[],layout={})\n",
    "        \n",
    "        return self\n",
    "    \n",
    "    def groupby(self, *args, **kwargs):\n",
    "        self._groups = self._obj.groupby(*args,**kwargs)\n",
    "        return self\n",
    "    \n",
    "    def add_image(self, template='background', **kwargs):\n",
    "        kwargs['templateitemname'] = template\n",
    "        self._figure.layout.images = self._figure.layout.images + (kwargs,)\n",
    "        return self\n",
    "        "
   ]
  },
  {
   "cell_type": "code",
   "execution_count": 738,
   "metadata": {},
   "outputs": [],
   "source": [
    "df = pd.DataFrame(dict(x_pred=x_pred, y_pred=y_pred, sigmas=sigmas))\n",
    "df2 = df.assign(ub=lambda df: df.y_pred+df.sigmas, lb=lambda df: df.y_pred-df.sigmas)"
   ]
  },
  {
   "cell_type": "code",
   "execution_count": 772,
   "metadata": {},
   "outputs": [
    {
     "ename": "ValueError",
     "evalue": "\n    Invalid element(s) received for the 'images' property of layout\n        Invalid elements include: [1]\n\n    The 'images' property is a tuple of instances of\n    Image that may be specified as:\n      - A list or tuple of instances of plotly.graph_objs.layout.Image\n      - A list or tuple of dicts of string/value properties that\n        will be passed to the Image constructor\n\n        Supported dict properties:\n            \n            layer\n                Specifies whether images are drawn below or\n                above traces. When `xref` and `yref` are both\n                set to `paper`, image is drawn below the entire\n                plot area.\n            name\n                When used in a template, named items are\n                created in the output figure in addition to any\n                items the figure already has in this array. You\n                can modify these items in the output figure by\n                making your own item with `templateitemname`\n                matching this `name` alongside your\n                modifications (including `visible: false` or\n                `enabled: false` to hide it). Has no effect\n                outside of a template.\n            opacity\n                Sets the opacity of the image.\n            sizex\n                Sets the image container size horizontally. The\n                image will be sized based on the `position`\n                value. When `xref` is set to `paper`, units are\n                sized relative to the plot width.\n            sizey\n                Sets the image container size vertically. The\n                image will be sized based on the `position`\n                value. When `yref` is set to `paper`, units are\n                sized relative to the plot height.\n            sizing\n                Specifies which dimension of the image to\n                constrain.\n            source\n                Specifies the URL of the image to be used. The\n                URL must be accessible from the domain where\n                the plot code is run, and can be either\n                relative or absolute.\n            templateitemname\n                Used to refer to a named item in this array in\n                the template. Named items from the template\n                will be created even without a matching item in\n                the input figure, but you can modify one by\n                making an item with `templateitemname` matching\n                its `name`, alongside your modifications\n                (including `visible: false` or `enabled: false`\n                to hide it). If there is no template or no\n                matching item, this item will be hidden unless\n                you explicitly show it with `visible: true`.\n            visible\n                Determines whether or not this image is\n                visible.\n            x\n                Sets the image's x position. When `xref` is set\n                to `paper`, units are sized relative to the\n                plot height. See `xref` for more info\n            xanchor\n                Sets the anchor for the x position\n            xref\n                Sets the images's x coordinate axis. If set to\n                a x axis id (e.g. \"x\" or \"x2\"), the `x`\n                position refers to an x data coordinate If set\n                to \"paper\", the `x` position refers to the\n                distance from the left of plot in normalized\n                coordinates where 0 (1) corresponds to the left\n                (right).\n            y\n                Sets the image's y position. When `yref` is set\n                to `paper`, units are sized relative to the\n                plot height. See `yref` for more info\n            yanchor\n                Sets the anchor for the y position.\n            yref\n                Sets the images's y coordinate axis. If set to\n                a y axis id (e.g. \"y\" or \"y2\"), the `y`\n                position refers to a y data coordinate. If set\n                to \"paper\", the `y` position refers to the\n                distance from the bottom of the plot in\n                normalized coordinates where 0 (1) corresponds\n                to the bottom (top).\n",
     "output_type": "error",
     "traceback": [
      "\u001b[0;31m---------------------------------------------------------------------------\u001b[0m",
      "\u001b[0;31mValueError\u001b[0m                                Traceback (most recent call last)",
      "\u001b[0;32m<ipython-input-772-9ddef151e4ab>\u001b[0m in \u001b[0;36m<module>\u001b[0;34m()\u001b[0m\n\u001b[0;32m----> 1\u001b[0;31m \u001b[0mdf2\u001b[0m\u001b[0;34m.\u001b[0m\u001b[0mplot\u001b[0m\u001b[0;34m.\u001b[0m\u001b[0mshow\u001b[0m\u001b[0;34m(\u001b[0m\u001b[0;34m)\u001b[0m\u001b[0;34m.\u001b[0m\u001b[0mlayout\u001b[0m\u001b[0;34m.\u001b[0m\u001b[0mimages\u001b[0m \u001b[0;34m=\u001b[0m \u001b[0;34m(\u001b[0m\u001b[0;36m1\u001b[0m\u001b[0;34m,\u001b[0m\u001b[0;34m)\u001b[0m\u001b[0;34m\u001b[0m\u001b[0;34m\u001b[0m\u001b[0m\n\u001b[0m",
      "\u001b[0;32m/opt/conda/lib/python3.6/site-packages/plotly/basedatatypes.py\u001b[0m in \u001b[0;36m__setattr__\u001b[0;34m(self, prop, value)\u001b[0m\n\u001b[1;32m   4237\u001b[0m         \u001b[0;32mif\u001b[0m \u001b[0mmatch\u001b[0m \u001b[0;32mis\u001b[0m \u001b[0;32mNone\u001b[0m\u001b[0;34m:\u001b[0m\u001b[0;34m\u001b[0m\u001b[0;34m\u001b[0m\u001b[0m\n\u001b[1;32m   4238\u001b[0m             \u001b[0;31m# Set as ordinary property\u001b[0m\u001b[0;34m\u001b[0m\u001b[0;34m\u001b[0m\u001b[0;34m\u001b[0m\u001b[0m\n\u001b[0;32m-> 4239\u001b[0;31m             \u001b[0msuper\u001b[0m\u001b[0;34m(\u001b[0m\u001b[0mBaseLayoutHierarchyType\u001b[0m\u001b[0;34m,\u001b[0m \u001b[0mself\u001b[0m\u001b[0;34m)\u001b[0m\u001b[0;34m.\u001b[0m\u001b[0m__setattr__\u001b[0m\u001b[0;34m(\u001b[0m\u001b[0mprop\u001b[0m\u001b[0;34m,\u001b[0m \u001b[0mvalue\u001b[0m\u001b[0;34m)\u001b[0m\u001b[0;34m\u001b[0m\u001b[0;34m\u001b[0m\u001b[0m\n\u001b[0m\u001b[1;32m   4240\u001b[0m         \u001b[0;32melse\u001b[0m\u001b[0;34m:\u001b[0m\u001b[0;34m\u001b[0m\u001b[0;34m\u001b[0m\u001b[0m\n\u001b[1;32m   4241\u001b[0m             \u001b[0;31m# Set as subplotid property\u001b[0m\u001b[0;34m\u001b[0m\u001b[0;34m\u001b[0m\u001b[0;34m\u001b[0m\u001b[0m\n",
      "\u001b[0;32m/opt/conda/lib/python3.6/site-packages/plotly/basedatatypes.py\u001b[0m in \u001b[0;36m__setattr__\u001b[0;34m(self, prop, value)\u001b[0m\n\u001b[1;32m   3343\u001b[0m                 prop in self._validators):\n\u001b[1;32m   3344\u001b[0m             \u001b[0;31m# Let known properties and private properties through\u001b[0m\u001b[0;34m\u001b[0m\u001b[0;34m\u001b[0m\u001b[0;34m\u001b[0m\u001b[0m\n\u001b[0;32m-> 3345\u001b[0;31m             \u001b[0msuper\u001b[0m\u001b[0;34m(\u001b[0m\u001b[0mBasePlotlyType\u001b[0m\u001b[0;34m,\u001b[0m \u001b[0mself\u001b[0m\u001b[0;34m)\u001b[0m\u001b[0;34m.\u001b[0m\u001b[0m__setattr__\u001b[0m\u001b[0;34m(\u001b[0m\u001b[0mprop\u001b[0m\u001b[0;34m,\u001b[0m \u001b[0mvalue\u001b[0m\u001b[0;34m)\u001b[0m\u001b[0;34m\u001b[0m\u001b[0;34m\u001b[0m\u001b[0m\n\u001b[0m\u001b[1;32m   3346\u001b[0m         \u001b[0;32melse\u001b[0m\u001b[0;34m:\u001b[0m\u001b[0;34m\u001b[0m\u001b[0;34m\u001b[0m\u001b[0m\n\u001b[1;32m   3347\u001b[0m             \u001b[0;31m# Raise error on unknown public properties\u001b[0m\u001b[0;34m\u001b[0m\u001b[0;34m\u001b[0m\u001b[0;34m\u001b[0m\u001b[0m\n",
      "\u001b[0;32m/opt/conda/lib/python3.6/site-packages/plotly/graph_objs/__init__.py\u001b[0m in \u001b[0;36mimages\u001b[0;34m(self, val)\u001b[0m\n\u001b[1;32m   1607\u001b[0m     \u001b[0;34m@\u001b[0m\u001b[0mimages\u001b[0m\u001b[0;34m.\u001b[0m\u001b[0msetter\u001b[0m\u001b[0;34m\u001b[0m\u001b[0;34m\u001b[0m\u001b[0m\n\u001b[1;32m   1608\u001b[0m     \u001b[0;32mdef\u001b[0m \u001b[0mimages\u001b[0m\u001b[0;34m(\u001b[0m\u001b[0mself\u001b[0m\u001b[0;34m,\u001b[0m \u001b[0mval\u001b[0m\u001b[0;34m)\u001b[0m\u001b[0;34m:\u001b[0m\u001b[0;34m\u001b[0m\u001b[0;34m\u001b[0m\u001b[0m\n\u001b[0;32m-> 1609\u001b[0;31m         \u001b[0mself\u001b[0m\u001b[0;34m[\u001b[0m\u001b[0;34m'images'\u001b[0m\u001b[0;34m]\u001b[0m \u001b[0;34m=\u001b[0m \u001b[0mval\u001b[0m\u001b[0;34m\u001b[0m\u001b[0;34m\u001b[0m\u001b[0m\n\u001b[0m\u001b[1;32m   1610\u001b[0m \u001b[0;34m\u001b[0m\u001b[0m\n\u001b[1;32m   1611\u001b[0m     \u001b[0;31m# imagedefaults\u001b[0m\u001b[0;34m\u001b[0m\u001b[0;34m\u001b[0m\u001b[0;34m\u001b[0m\u001b[0m\n",
      "\u001b[0;32m/opt/conda/lib/python3.6/site-packages/plotly/basedatatypes.py\u001b[0m in \u001b[0;36m__setitem__\u001b[0;34m(self, prop, value)\u001b[0m\n\u001b[1;32m   4223\u001b[0m         \u001b[0;32mif\u001b[0m \u001b[0mmatch\u001b[0m \u001b[0;32mis\u001b[0m \u001b[0;32mNone\u001b[0m\u001b[0;34m:\u001b[0m\u001b[0;34m\u001b[0m\u001b[0;34m\u001b[0m\u001b[0m\n\u001b[1;32m   4224\u001b[0m             \u001b[0;31m# Set as ordinary property\u001b[0m\u001b[0;34m\u001b[0m\u001b[0;34m\u001b[0m\u001b[0;34m\u001b[0m\u001b[0m\n\u001b[0;32m-> 4225\u001b[0;31m             \u001b[0msuper\u001b[0m\u001b[0;34m(\u001b[0m\u001b[0mBaseLayoutHierarchyType\u001b[0m\u001b[0;34m,\u001b[0m \u001b[0mself\u001b[0m\u001b[0;34m)\u001b[0m\u001b[0;34m.\u001b[0m\u001b[0m__setitem__\u001b[0m\u001b[0;34m(\u001b[0m\u001b[0mprop\u001b[0m\u001b[0;34m,\u001b[0m \u001b[0mvalue\u001b[0m\u001b[0;34m)\u001b[0m\u001b[0;34m\u001b[0m\u001b[0;34m\u001b[0m\u001b[0m\n\u001b[0m\u001b[1;32m   4226\u001b[0m         \u001b[0;32melse\u001b[0m\u001b[0;34m:\u001b[0m\u001b[0;34m\u001b[0m\u001b[0;34m\u001b[0m\u001b[0m\n\u001b[1;32m   4227\u001b[0m             \u001b[0;31m# Set as subplotid property\u001b[0m\u001b[0;34m\u001b[0m\u001b[0;34m\u001b[0m\u001b[0;34m\u001b[0m\u001b[0m\n",
      "\u001b[0;32m/opt/conda/lib/python3.6/site-packages/plotly/basedatatypes.py\u001b[0m in \u001b[0;36m__setitem__\u001b[0;34m(self, prop, value)\u001b[0m\n\u001b[1;32m   3311\u001b[0m             elif isinstance(validator,\n\u001b[1;32m   3312\u001b[0m                             (CompoundArrayValidator, BaseDataValidator)):\n\u001b[0;32m-> 3313\u001b[0;31m                 \u001b[0mself\u001b[0m\u001b[0;34m.\u001b[0m\u001b[0m_set_array_prop\u001b[0m\u001b[0;34m(\u001b[0m\u001b[0mprop\u001b[0m\u001b[0;34m,\u001b[0m \u001b[0mvalue\u001b[0m\u001b[0;34m)\u001b[0m\u001b[0;34m\u001b[0m\u001b[0;34m\u001b[0m\u001b[0m\n\u001b[0m\u001b[1;32m   3314\u001b[0m \u001b[0;34m\u001b[0m\u001b[0m\n\u001b[1;32m   3315\u001b[0m             \u001b[0;31m# ### Handle simple property ###\u001b[0m\u001b[0;34m\u001b[0m\u001b[0;34m\u001b[0m\u001b[0;34m\u001b[0m\u001b[0m\n",
      "\u001b[0;32m/opt/conda/lib/python3.6/site-packages/plotly/basedatatypes.py\u001b[0m in \u001b[0;36m_set_array_prop\u001b[0;34m(self, prop, val)\u001b[0m\n\u001b[1;32m   3694\u001b[0m         \u001b[0mvalidator\u001b[0m \u001b[0;34m=\u001b[0m \u001b[0mself\u001b[0m\u001b[0;34m.\u001b[0m\u001b[0m_validators\u001b[0m\u001b[0;34m.\u001b[0m\u001b[0mget\u001b[0m\u001b[0;34m(\u001b[0m\u001b[0mprop\u001b[0m\u001b[0;34m)\u001b[0m\u001b[0;34m\u001b[0m\u001b[0;34m\u001b[0m\u001b[0m\n\u001b[1;32m   3695\u001b[0m         \u001b[0;31m# type: Tuple[BasePlotlyType]\u001b[0m\u001b[0;34m\u001b[0m\u001b[0;34m\u001b[0m\u001b[0;34m\u001b[0m\u001b[0m\n\u001b[0;32m-> 3696\u001b[0;31m         \u001b[0mval\u001b[0m \u001b[0;34m=\u001b[0m \u001b[0mvalidator\u001b[0m\u001b[0;34m.\u001b[0m\u001b[0mvalidate_coerce\u001b[0m\u001b[0;34m(\u001b[0m\u001b[0mval\u001b[0m\u001b[0;34m,\u001b[0m \u001b[0mskip_invalid\u001b[0m\u001b[0;34m=\u001b[0m\u001b[0mself\u001b[0m\u001b[0;34m.\u001b[0m\u001b[0m_skip_invalid\u001b[0m\u001b[0;34m)\u001b[0m\u001b[0;34m\u001b[0m\u001b[0;34m\u001b[0m\u001b[0m\n\u001b[0m\u001b[1;32m   3697\u001b[0m \u001b[0;34m\u001b[0m\u001b[0m\n\u001b[1;32m   3698\u001b[0m         \u001b[0;31m# Save deep copies of current and new states\u001b[0m\u001b[0;34m\u001b[0m\u001b[0;34m\u001b[0m\u001b[0;34m\u001b[0m\u001b[0m\n",
      "\u001b[0;32m/opt/conda/lib/python3.6/site-packages/_plotly_utils/basevalidators.py\u001b[0m in \u001b[0;36mvalidate_coerce\u001b[0;34m(self, v, skip_invalid)\u001b[0m\n\u001b[1;32m   2224\u001b[0m \u001b[0;34m\u001b[0m\u001b[0m\n\u001b[1;32m   2225\u001b[0m             \u001b[0;32mif\u001b[0m \u001b[0minvalid_els\u001b[0m\u001b[0;34m:\u001b[0m\u001b[0;34m\u001b[0m\u001b[0;34m\u001b[0m\u001b[0m\n\u001b[0;32m-> 2226\u001b[0;31m                 \u001b[0mself\u001b[0m\u001b[0;34m.\u001b[0m\u001b[0mraise_invalid_elements\u001b[0m\u001b[0;34m(\u001b[0m\u001b[0minvalid_els\u001b[0m\u001b[0;34m)\u001b[0m\u001b[0;34m\u001b[0m\u001b[0;34m\u001b[0m\u001b[0m\n\u001b[0m\u001b[1;32m   2227\u001b[0m \u001b[0;34m\u001b[0m\u001b[0m\n\u001b[1;32m   2228\u001b[0m             \u001b[0mv\u001b[0m \u001b[0;34m=\u001b[0m \u001b[0mto_scalar_or_list\u001b[0m\u001b[0;34m(\u001b[0m\u001b[0mres\u001b[0m\u001b[0;34m)\u001b[0m\u001b[0;34m\u001b[0m\u001b[0;34m\u001b[0m\u001b[0m\n",
      "\u001b[0;32m/opt/conda/lib/python3.6/site-packages/_plotly_utils/basevalidators.py\u001b[0m in \u001b[0;36mraise_invalid_elements\u001b[0;34m(self, invalid_els)\u001b[0m\n\u001b[1;32m    287\u001b[0m                 \u001b[0mpname\u001b[0m\u001b[0;34m=\u001b[0m\u001b[0mself\u001b[0m\u001b[0;34m.\u001b[0m\u001b[0mparent_name\u001b[0m\u001b[0;34m,\u001b[0m\u001b[0;34m\u001b[0m\u001b[0;34m\u001b[0m\u001b[0m\n\u001b[1;32m    288\u001b[0m                 \u001b[0minvalid\u001b[0m\u001b[0;34m=\u001b[0m\u001b[0minvalid_els\u001b[0m\u001b[0;34m[\u001b[0m\u001b[0;34m:\u001b[0m\u001b[0;36m10\u001b[0m\u001b[0;34m]\u001b[0m\u001b[0;34m,\u001b[0m\u001b[0;34m\u001b[0m\u001b[0;34m\u001b[0m\u001b[0m\n\u001b[0;32m--> 289\u001b[0;31m                 valid_clr_desc=self.description()))\n\u001b[0m\u001b[1;32m    290\u001b[0m \u001b[0;34m\u001b[0m\u001b[0m\n\u001b[1;32m    291\u001b[0m     \u001b[0;32mdef\u001b[0m \u001b[0mvalidate_coerce\u001b[0m\u001b[0;34m(\u001b[0m\u001b[0mself\u001b[0m\u001b[0;34m,\u001b[0m \u001b[0mv\u001b[0m\u001b[0;34m)\u001b[0m\u001b[0;34m:\u001b[0m\u001b[0;34m\u001b[0m\u001b[0;34m\u001b[0m\u001b[0m\n",
      "\u001b[0;31mValueError\u001b[0m: \n    Invalid element(s) received for the 'images' property of layout\n        Invalid elements include: [1]\n\n    The 'images' property is a tuple of instances of\n    Image that may be specified as:\n      - A list or tuple of instances of plotly.graph_objs.layout.Image\n      - A list or tuple of dicts of string/value properties that\n        will be passed to the Image constructor\n\n        Supported dict properties:\n            \n            layer\n                Specifies whether images are drawn below or\n                above traces. When `xref` and `yref` are both\n                set to `paper`, image is drawn below the entire\n                plot area.\n            name\n                When used in a template, named items are\n                created in the output figure in addition to any\n                items the figure already has in this array. You\n                can modify these items in the output figure by\n                making your own item with `templateitemname`\n                matching this `name` alongside your\n                modifications (including `visible: false` or\n                `enabled: false` to hide it). Has no effect\n                outside of a template.\n            opacity\n                Sets the opacity of the image.\n            sizex\n                Sets the image container size horizontally. The\n                image will be sized based on the `position`\n                value. When `xref` is set to `paper`, units are\n                sized relative to the plot width.\n            sizey\n                Sets the image container size vertically. The\n                image will be sized based on the `position`\n                value. When `yref` is set to `paper`, units are\n                sized relative to the plot height.\n            sizing\n                Specifies which dimension of the image to\n                constrain.\n            source\n                Specifies the URL of the image to be used. The\n                URL must be accessible from the domain where\n                the plot code is run, and can be either\n                relative or absolute.\n            templateitemname\n                Used to refer to a named item in this array in\n                the template. Named items from the template\n                will be created even without a matching item in\n                the input figure, but you can modify one by\n                making an item with `templateitemname` matching\n                its `name`, alongside your modifications\n                (including `visible: false` or `enabled: false`\n                to hide it). If there is no template or no\n                matching item, this item will be hidden unless\n                you explicitly show it with `visible: true`.\n            visible\n                Determines whether or not this image is\n                visible.\n            x\n                Sets the image's x position. When `xref` is set\n                to `paper`, units are sized relative to the\n                plot height. See `xref` for more info\n            xanchor\n                Sets the anchor for the x position\n            xref\n                Sets the images's x coordinate axis. If set to\n                a x axis id (e.g. \"x\" or \"x2\"), the `x`\n                position refers to an x data coordinate If set\n                to \"paper\", the `x` position refers to the\n                distance from the left of plot in normalized\n                coordinates where 0 (1) corresponds to the left\n                (right).\n            y\n                Sets the image's y position. When `yref` is set\n                to `paper`, units are sized relative to the\n                plot height. See `yref` for more info\n            yanchor\n                Sets the anchor for the y position.\n            yref\n                Sets the images's y coordinate axis. If set to\n                a y axis id (e.g. \"y\" or \"y2\"), the `y`\n                position refers to a y data coordinate. If set\n                to \"paper\", the `y` position refers to the\n                distance from the bottom of the plot in\n                normalized coordinates where 0 (1) corresponds\n                to the bottom (top).\n"
     ]
    }
   ],
   "source": []
  },
  {
   "cell_type": "code",
   "execution_count": 757,
   "metadata": {},
   "outputs": [],
   "source": [
    "plotter = (df2.plot\n",
    " .add_template(dict(layout=pio.templates['plotly_dark'].layout))\n",
    " .add_template(continuous_error_bars)\n",
    " .add_scatter(x='x_pred', y='y_pred', )\n",
    " .add_scatter(x='x_pred', y='ub')\n",
    " .add_scatter(x='x_pred', y='lb')\n",
    ")\n"
   ]
  },
  {
   "cell_type": "code",
   "execution_count": 769,
   "metadata": {},
   "outputs": [],
   "source": [
    "\n",
    "plotter = (df2.plot\n",
    " .add_template(dict(layout=pio.templates['plotly_dark'].layout))\n",
    " .add_template(line_color_template_factory('limegreen'))\n",
    ")\n"
   ]
  },
  {
   "cell_type": "code",
   "execution_count": 759,
   "metadata": {},
   "outputs": [
    {
     "data": {
      "application/vnd.jupyter.widget-view+json": {
       "model_id": "a1f4b500d7a84ae3be61cd08fbeec62e",
       "version_major": 2,
       "version_minor": 0
      },
      "text/plain": [
       "FigureWidget({\n",
       "    'data': [{'type': 'scatter',\n",
       "              'uid': '4c192328-2c98-4b9a-950e-db07e290e916',\n",
       " …"
      ]
     },
     "metadata": {},
     "output_type": "display_data"
    }
   ],
   "source": [
    "df2.plot.show()"
   ]
  },
  {
   "cell_type": "code",
   "execution_count": 753,
   "metadata": {},
   "outputs": [
    {
     "data": {
      "text/plain": [
       "<__main__.PlotlyAccessor at 0x7f9e71feff28>"
      ]
     },
     "execution_count": 753,
     "metadata": {},
     "output_type": "execute_result"
    }
   ],
   "source": [
    "plotter.add_scatter(x=x,y=y,mode='markers').add_scatter(x=x,y=y,mode='markers')\n"
   ]
  },
  {
   "cell_type": "code",
   "execution_count": 731,
   "metadata": {},
   "outputs": [
    {
     "data": {
      "text/plain": [
       "<__main__.PlotlyAccessor at 0x7f9e77f225c0>"
      ]
     },
     "execution_count": 731,
     "metadata": {},
     "output_type": "execute_result"
    }
   ],
   "source": [
    "df2.plot.query('x_pred<0').add_scatter(x='x_pred', y='y_pred', )"
   ]
  },
  {
   "cell_type": "code",
   "execution_count": 732,
   "metadata": {},
   "outputs": [
    {
     "data": {
      "text/plain": [
       "<__main__.PlotlyAccessor at 0x7f9e77f225c0>"
      ]
     },
     "execution_count": 732,
     "metadata": {},
     "output_type": "execute_result"
    }
   ],
   "source": [
    "df2.plot"
   ]
  },
  {
   "cell_type": "code",
   "execution_count": 790,
   "metadata": {},
   "outputs": [
    {
     "data": {
      "application/vnd.plotly.v1+json": {
       "config": {
        "linkText": "Export to plot.ly",
        "plotlyServerURL": "https://plot.ly",
        "showLink": false
       },
       "data": [
        {
         "hoverlabel": {
          "namelength": 0
         },
         "hovertemplate": "gdpPercap=%{x}<br>lifeExp=%{y}",
         "legendgroup": "",
         "marker": {
          "color": "#636efa",
          "symbol": "circle"
         },
         "mode": "markers",
         "name": "",
         "showlegend": false,
         "type": "scatter",
         "uid": "8c228823-64c3-4e5e-9c21-c1179c83cc33",
         "x": [
          974.5803384,
          5937.029525999999,
          6223.367465,
          4797.231267,
          12779.379640000001,
          34435.367439999995,
          36126.4927,
          29796.048339999998,
          1391.253792,
          33692.60508,
          1441.284873,
          3822.1370840000004,
          7446.298803,
          12569.851770000001,
          9065.800825,
          10680.79282,
          1217.032994,
          430.07069160000003,
          1713.7786859999999,
          2042.0952399999999,
          36319.235010000004,
          706.016537,
          1704.0637239999999,
          13171.63885,
          4959.1148539999995,
          7006.580419,
          986.1478792000001,
          277.55185869999997,
          3632.557798,
          9645.06142,
          1544.750112,
          14619.222719999998,
          8948.102923,
          22833.30851,
          35278.41874,
          2082.4815670000003,
          6025.374752000001,
          6873.262326000001,
          5581.180998,
          5728.353514,
          12154.08975,
          641.3695236000001,
          690.8055759,
          33207.0844,
          30470.0167,
          13206.48452,
          752.7497265,
          32170.37442,
          1327.60891,
          27538.41188,
          5186.050003,
          942.6542111,
          579.2317429999999,
          1201.637154,
          3548.3308460000003,
          39724.97867,
          18008.94444,
          36180.789189999996,
          2452.210407,
          3540.6515640000002,
          11605.71449,
          4471.061906,
          40675.99635,
          25523.2771,
          28569.7197,
          7320.880262000001,
          31656.06806,
          4519.461171,
          1463.249282,
          1593.06548,
          23348.139730000003,
          47306.98978,
          10461.05868,
          1569.331442,
          414.5073415,
          12057.49928,
          1044.770126,
          759.3499101,
          12451.6558,
          1042.581557,
          1803.1514960000002,
          10956.99112,
          11977.57496,
          3095.7722710000003,
          9253.896111,
          3820.17523,
          823.6856205,
          944,
          4811.060429,
          1091.359778,
          36797.93332,
          25185.00911,
          2749.320965,
          619.6768923999999,
          2013.9773050000001,
          49357.19017,
          22316.19287,
          2605.94758,
          9809.185636,
          4172.838464,
          7408.905561,
          3190.481016,
          15389.924680000002,
          20509.64777,
          19328.70901,
          7670.122558,
          10808.47561,
          863.0884639000001,
          1598.435089,
          21654.83194,
          1712.4721359999999,
          9786.534714,
          862.5407561000001,
          47143.179639999995,
          18678.31435,
          25768.25759,
          926.1410683,
          9269.657808,
          28821.0637,
          3970.0954070000003,
          2602.394995,
          4513.480643,
          33859.74835,
          37506.419069999996,
          4184.548089,
          28718.27684,
          1107.482182,
          7458.3963269999995,
          882.9699437999999,
          18008.50924,
          7092.923025,
          8458.276384,
          1056.3801210000001,
          33203.26128,
          42951.65309,
          10611.46299,
          11415.805690000001,
          2441.576404,
          3025.349798,
          2280.769906,
          1271.211593,
          469.70929810000007
         ],
         "xaxis": "x",
         "y": [
          43.828,
          76.423,
          72.301,
          42.731,
          75.32,
          81.235,
          79.829,
          75.635,
          64.062,
          79.441,
          56.728,
          65.554,
          74.852,
          50.728,
          72.39,
          73.005,
          52.295,
          49.58,
          59.723,
          50.43,
          80.653,
          44.74100000000001,
          50.651,
          78.553,
          72.961,
          72.889,
          65.152,
          46.461999999999996,
          55.321999999999996,
          78.782,
          48.328,
          75.748,
          78.273,
          76.486,
          78.332,
          54.791000000000004,
          72.235,
          74.994,
          71.33800000000001,
          71.878,
          51.57899999999999,
          58.04,
          52.946999999999996,
          79.313,
          80.657,
          56.735,
          59.448,
          79.406,
          60.022,
          79.483,
          70.259,
          56.007,
          46.388000000000005,
          60.916000000000004,
          70.19800000000001,
          82.208,
          73.33800000000001,
          81.757,
          64.69800000000001,
          70.65,
          70.964,
          59.545,
          78.885,
          80.745,
          80.546,
          72.567,
          82.603,
          72.535,
          54.11,
          67.297,
          78.623,
          77.58800000000001,
          71.993,
          42.592,
          45.678000000000004,
          73.952,
          59.443000000000005,
          48.303000000000004,
          74.241,
          54.467,
          64.164,
          72.801,
          76.195,
          66.803,
          74.543,
          71.164,
          42.082,
          62.068999999999996,
          52.906000000000006,
          63.785,
          79.762,
          80.204,
          72.899,
          56.867,
          46.858999999999995,
          80.196,
          75.64,
          65.483,
          75.53699999999999,
          71.752,
          71.421,
          71.688,
          75.563,
          78.098,
          78.74600000000001,
          76.442,
          72.476,
          46.242,
          65.528,
          72.777,
          63.062,
          74.002,
          42.568000000000005,
          79.972,
          74.663,
          77.926,
          48.159,
          49.339,
          80.941,
          72.396,
          58.556000000000004,
          39.613,
          80.884,
          81.70100000000001,
          74.143,
          78.4,
          52.516999999999996,
          70.616,
          58.42,
          69.819,
          73.923,
          71.777,
          51.542,
          79.425,
          78.242,
          76.384,
          73.747,
          74.249,
          73.422,
          62.698,
          42.38399999999999,
          43.486999999999995
         ],
         "yaxis": "y"
        }
       ],
       "layout": {
        "grid": {
         "xaxes": [
          "x"
         ],
         "xgap": 0.1,
         "xside": "bottom",
         "yaxes": [
          "y"
         ],
         "ygap": 0.1,
         "yside": "left"
        },
        "height": 600,
        "legend": {
         "tracegroupgap": 0
        },
        "margin": {
         "t": 60
        },
        "template": {
         "data": {
          "bar": [
           {
            "marker": {
             "line": {
              "color": "#E5ECF6",
              "width": 0.5
             }
            },
            "type": "bar"
           }
          ],
          "barpolar": [
           {
            "marker": {
             "line": {
              "color": "#E5ECF6",
              "width": 0.5
             }
            },
            "type": "barpolar"
           }
          ],
          "carpet": [
           {
            "aaxis": {
             "endlinecolor": "#2a3f5f",
             "gridcolor": "white",
             "linecolor": "white",
             "minorgridcolor": "white",
             "startlinecolor": "#2a3f5f"
            },
            "baxis": {
             "endlinecolor": "#2a3f5f",
             "gridcolor": "white",
             "linecolor": "white",
             "minorgridcolor": "white",
             "startlinecolor": "#2a3f5f"
            },
            "type": "carpet"
           }
          ],
          "choropleth": [
           {
            "colorbar": {
             "outlinewidth": 0,
             "ticks": ""
            },
            "type": "choropleth"
           }
          ],
          "contour": [
           {
            "colorbar": {
             "outlinewidth": 0,
             "ticks": ""
            },
            "colorscale": [
             [
              0,
              "#0508b8"
             ],
             [
              0.0893854748603352,
              "#1910d8"
             ],
             [
              0.1787709497206704,
              "#3c19f0"
             ],
             [
              0.2681564245810056,
              "#6b1cfb"
             ],
             [
              0.3575418994413408,
              "#981cfd"
             ],
             [
              0.44692737430167595,
              "#bf1cfd"
             ],
             [
              0.5363128491620112,
              "#dd2bfd"
             ],
             [
              0.6256983240223464,
              "#f246fe"
             ],
             [
              0.7150837988826816,
              "#fc67fd"
             ],
             [
              0.8044692737430168,
              "#fe88fc"
             ],
             [
              0.8938547486033519,
              "#fea5fd"
             ],
             [
              0.9832402234636871,
              "#febefe"
             ],
             [
              1,
              "#fec3fe"
             ]
            ],
            "type": "contour"
           }
          ],
          "contourcarpet": [
           {
            "colorbar": {
             "outlinewidth": 0,
             "ticks": ""
            },
            "type": "contourcarpet"
           }
          ],
          "heatmap": [
           {
            "colorbar": {
             "outlinewidth": 0,
             "ticks": ""
            },
            "colorscale": [
             [
              0,
              "#0508b8"
             ],
             [
              0.0893854748603352,
              "#1910d8"
             ],
             [
              0.1787709497206704,
              "#3c19f0"
             ],
             [
              0.2681564245810056,
              "#6b1cfb"
             ],
             [
              0.3575418994413408,
              "#981cfd"
             ],
             [
              0.44692737430167595,
              "#bf1cfd"
             ],
             [
              0.5363128491620112,
              "#dd2bfd"
             ],
             [
              0.6256983240223464,
              "#f246fe"
             ],
             [
              0.7150837988826816,
              "#fc67fd"
             ],
             [
              0.8044692737430168,
              "#fe88fc"
             ],
             [
              0.8938547486033519,
              "#fea5fd"
             ],
             [
              0.9832402234636871,
              "#febefe"
             ],
             [
              1,
              "#fec3fe"
             ]
            ],
            "type": "heatmap"
           }
          ],
          "heatmapgl": [
           {
            "colorbar": {
             "outlinewidth": 0,
             "ticks": ""
            },
            "type": "heatmapgl"
           }
          ],
          "histogram": [
           {
            "marker": {
             "colorbar": {
              "outlinewidth": 0,
              "ticks": ""
             }
            },
            "type": "histogram"
           }
          ],
          "histogram2d": [
           {
            "colorbar": {
             "outlinewidth": 0,
             "ticks": ""
            },
            "colorscale": [
             [
              0,
              "#0508b8"
             ],
             [
              0.0893854748603352,
              "#1910d8"
             ],
             [
              0.1787709497206704,
              "#3c19f0"
             ],
             [
              0.2681564245810056,
              "#6b1cfb"
             ],
             [
              0.3575418994413408,
              "#981cfd"
             ],
             [
              0.44692737430167595,
              "#bf1cfd"
             ],
             [
              0.5363128491620112,
              "#dd2bfd"
             ],
             [
              0.6256983240223464,
              "#f246fe"
             ],
             [
              0.7150837988826816,
              "#fc67fd"
             ],
             [
              0.8044692737430168,
              "#fe88fc"
             ],
             [
              0.8938547486033519,
              "#fea5fd"
             ],
             [
              0.9832402234636871,
              "#febefe"
             ],
             [
              1,
              "#fec3fe"
             ]
            ],
            "type": "histogram2d"
           }
          ],
          "histogram2dcontour": [
           {
            "colorbar": {
             "outlinewidth": 0,
             "ticks": ""
            },
            "colorscale": [
             [
              0,
              "#0508b8"
             ],
             [
              0.0893854748603352,
              "#1910d8"
             ],
             [
              0.1787709497206704,
              "#3c19f0"
             ],
             [
              0.2681564245810056,
              "#6b1cfb"
             ],
             [
              0.3575418994413408,
              "#981cfd"
             ],
             [
              0.44692737430167595,
              "#bf1cfd"
             ],
             [
              0.5363128491620112,
              "#dd2bfd"
             ],
             [
              0.6256983240223464,
              "#f246fe"
             ],
             [
              0.7150837988826816,
              "#fc67fd"
             ],
             [
              0.8044692737430168,
              "#fe88fc"
             ],
             [
              0.8938547486033519,
              "#fea5fd"
             ],
             [
              0.9832402234636871,
              "#febefe"
             ],
             [
              1,
              "#fec3fe"
             ]
            ],
            "type": "histogram2dcontour"
           }
          ],
          "mesh3d": [
           {
            "colorbar": {
             "outlinewidth": 0,
             "ticks": ""
            },
            "type": "mesh3d"
           }
          ],
          "parcoords": [
           {
            "line": {
             "colorbar": {
              "outlinewidth": 0,
              "ticks": ""
             }
            },
            "type": "parcoords"
           }
          ],
          "scatter": [
           {
            "marker": {
             "colorbar": {
              "outlinewidth": 0,
              "ticks": ""
             }
            },
            "type": "scatter"
           }
          ],
          "scatter3d": [
           {
            "marker": {
             "colorbar": {
              "outlinewidth": 0,
              "ticks": ""
             }
            },
            "type": "scatter3d"
           }
          ],
          "scattercarpet": [
           {
            "marker": {
             "colorbar": {
              "outlinewidth": 0,
              "ticks": ""
             }
            },
            "type": "scattercarpet"
           }
          ],
          "scattergeo": [
           {
            "marker": {
             "colorbar": {
              "outlinewidth": 0,
              "ticks": ""
             }
            },
            "type": "scattergeo"
           }
          ],
          "scattergl": [
           {
            "marker": {
             "colorbar": {
              "outlinewidth": 0,
              "ticks": ""
             }
            },
            "type": "scattergl"
           }
          ],
          "scattermapbox": [
           {
            "marker": {
             "colorbar": {
              "outlinewidth": 0,
              "ticks": ""
             }
            },
            "type": "scattermapbox"
           }
          ],
          "scatterpolar": [
           {
            "marker": {
             "colorbar": {
              "outlinewidth": 0,
              "ticks": ""
             }
            },
            "type": "scatterpolar"
           }
          ],
          "scatterpolargl": [
           {
            "marker": {
             "colorbar": {
              "outlinewidth": 0,
              "ticks": ""
             }
            },
            "type": "scatterpolargl"
           }
          ],
          "scatterternary": [
           {
            "marker": {
             "colorbar": {
              "outlinewidth": 0,
              "ticks": ""
             }
            },
            "type": "scatterternary"
           }
          ],
          "surface": [
           {
            "colorbar": {
             "outlinewidth": 0,
             "ticks": ""
            },
            "type": "surface"
           }
          ],
          "table": [
           {
            "cells": {
             "fill": {
              "color": "#EBF0F8"
             },
             "line": {
              "color": "white"
             }
            },
            "header": {
             "fill": {
              "color": "#C8D4E3"
             },
             "line": {
              "color": "white"
             }
            },
            "type": "table"
           }
          ]
         },
         "layout": {
          "annotationdefaults": {
           "arrowcolor": "#506784",
           "arrowhead": 0,
           "arrowwidth": 1
          },
          "colorscale": {
           "diverging": [
            [
             0,
             "#8e0152"
            ],
            [
             0.1,
             "#c51b7d"
            ],
            [
             0.2,
             "#de77ae"
            ],
            [
             0.3,
             "#f1b6da"
            ],
            [
             0.4,
             "#fde0ef"
            ],
            [
             0.5,
             "#f7f7f7"
            ],
            [
             0.6,
             "#e6f5d0"
            ],
            [
             0.7,
             "#b8e186"
            ],
            [
             0.8,
             "#7fbc41"
            ],
            [
             0.9,
             "#4d9221"
            ],
            [
             1,
             "#276419"
            ]
           ],
           "sequential": [
            [
             0,
             "#0508b8"
            ],
            [
             0.0893854748603352,
             "#1910d8"
            ],
            [
             0.1787709497206704,
             "#3c19f0"
            ],
            [
             0.2681564245810056,
             "#6b1cfb"
            ],
            [
             0.3575418994413408,
             "#981cfd"
            ],
            [
             0.44692737430167595,
             "#bf1cfd"
            ],
            [
             0.5363128491620112,
             "#dd2bfd"
            ],
            [
             0.6256983240223464,
             "#f246fe"
            ],
            [
             0.7150837988826816,
             "#fc67fd"
            ],
            [
             0.8044692737430168,
             "#fe88fc"
            ],
            [
             0.8938547486033519,
             "#fea5fd"
            ],
            [
             0.9832402234636871,
             "#febefe"
            ],
            [
             1,
             "#fec3fe"
            ]
           ],
           "sequentialminus": [
            [
             0,
             "#0508b8"
            ],
            [
             0.0893854748603352,
             "#1910d8"
            ],
            [
             0.1787709497206704,
             "#3c19f0"
            ],
            [
             0.2681564245810056,
             "#6b1cfb"
            ],
            [
             0.3575418994413408,
             "#981cfd"
            ],
            [
             0.44692737430167595,
             "#bf1cfd"
            ],
            [
             0.5363128491620112,
             "#dd2bfd"
            ],
            [
             0.6256983240223464,
             "#f246fe"
            ],
            [
             0.7150837988826816,
             "#fc67fd"
            ],
            [
             0.8044692737430168,
             "#fe88fc"
            ],
            [
             0.8938547486033519,
             "#fea5fd"
            ],
            [
             0.9832402234636871,
             "#febefe"
            ],
            [
             1,
             "#fec3fe"
            ]
           ]
          },
          "colorway": [
           "#636efa",
           "#EF553B",
           "#00cc96",
           "#ab63fa",
           "#19d3f3",
           "#e763fa",
           "#FECB52",
           "#FFA15A",
           "#FF6692",
           "#B6E880"
          ],
          "font": {
           "color": "#2a3f5f"
          },
          "geo": {
           "bgcolor": "white",
           "lakecolor": "white",
           "landcolor": "#E5ECF6",
           "showlakes": true,
           "showland": true,
           "subunitcolor": "white"
          },
          "hoverlabel": {
           "align": "left"
          },
          "hovermode": "closest",
          "mapbox": {
           "style": "light"
          },
          "paper_bgcolor": "white",
          "plot_bgcolor": "#E5ECF6",
          "polar": {
           "angularaxis": {
            "gridcolor": "white",
            "linecolor": "white",
            "ticks": ""
           },
           "bgcolor": "#E5ECF6",
           "radialaxis": {
            "gridcolor": "white",
            "linecolor": "white",
            "ticks": ""
           }
          },
          "scene": {
           "xaxis": {
            "backgroundcolor": "#E5ECF6",
            "gridcolor": "white",
            "gridwidth": 2,
            "linecolor": "white",
            "showbackground": true,
            "ticks": "",
            "zerolinecolor": "white"
           },
           "yaxis": {
            "backgroundcolor": "#E5ECF6",
            "gridcolor": "white",
            "gridwidth": 2,
            "linecolor": "white",
            "showbackground": true,
            "ticks": "",
            "zerolinecolor": "white"
           },
           "zaxis": {
            "backgroundcolor": "#E5ECF6",
            "gridcolor": "white",
            "gridwidth": 2,
            "linecolor": "white",
            "showbackground": true,
            "ticks": "",
            "zerolinecolor": "white"
           }
          },
          "shapedefaults": {
           "fillcolor": "#506784",
           "line": {
            "width": 0
           },
           "opacity": 0.4
          },
          "ternary": {
           "aaxis": {
            "gridcolor": "white",
            "linecolor": "white",
            "ticks": ""
           },
           "baxis": {
            "gridcolor": "white",
            "linecolor": "white",
            "ticks": ""
           },
           "bgcolor": "#E5ECF6",
           "caxis": {
            "gridcolor": "white",
            "linecolor": "white",
            "ticks": ""
           }
          },
          "title": {
           "x": 0.05
          },
          "xaxis": {
           "automargin": true,
           "gridcolor": "white",
           "linecolor": "white",
           "ticks": "",
           "zerolinecolor": "white",
           "zerolinewidth": 2
          },
          "yaxis": {
           "automargin": true,
           "gridcolor": "white",
           "linecolor": "white",
           "ticks": "",
           "zerolinecolor": "white",
           "zerolinewidth": 2
          }
         }
        },
        "xaxis": {
         "title": {
          "text": "gdpPercap"
         }
        },
        "yaxis": {
         "title": {
          "text": "lifeExp"
         }
        }
       }
      },
      "text/html": [
       "<div>\n",
       "        \n",
       "        \n",
       "            <div id=\"cc54ad2d-ae5b-4760-aaf9-5617afd98595\" class=\"plotly-graph-div\" style=\"height:600px; width:100%;\"></div>\n",
       "            <script type=\"text/javascript\">\n",
       "                require([\"plotly\"], function(Plotly) {\n",
       "                    window.PLOTLYENV=window.PLOTLYENV || {};\n",
       "                    window.PLOTLYENV.BASE_URL='https://plot.ly';\n",
       "                    \n",
       "                if (document.getElementById(\"cc54ad2d-ae5b-4760-aaf9-5617afd98595\")) {\n",
       "                    Plotly.newPlot(\n",
       "                        'cc54ad2d-ae5b-4760-aaf9-5617afd98595',\n",
       "                        [{\"hoverlabel\": {\"namelength\": 0}, \"hovertemplate\": \"gdpPercap=%{x}<br>lifeExp=%{y}\", \"legendgroup\": \"\", \"marker\": {\"color\": \"#636efa\", \"symbol\": \"circle\"}, \"mode\": \"markers\", \"name\": \"\", \"showlegend\": false, \"type\": \"scatter\", \"uid\": \"8c228823-64c3-4e5e-9c21-c1179c83cc33\", \"x\": [974.5803384, 5937.029525999999, 6223.367465, 4797.231267, 12779.379640000001, 34435.367439999995, 36126.4927, 29796.048339999998, 1391.253792, 33692.60508, 1441.284873, 3822.1370840000004, 7446.298803, 12569.851770000001, 9065.800825, 10680.79282, 1217.032994, 430.07069160000003, 1713.7786859999999, 2042.0952399999999, 36319.235010000004, 706.016537, 1704.0637239999999, 13171.63885, 4959.1148539999995, 7006.580419, 986.1478792000001, 277.55185869999997, 3632.557798, 9645.06142, 1544.750112, 14619.222719999998, 8948.102923, 22833.30851, 35278.41874, 2082.4815670000003, 6025.374752000001, 6873.262326000001, 5581.180998, 5728.353514, 12154.08975, 641.3695236000001, 690.8055759, 33207.0844, 30470.0167, 13206.48452, 752.7497265, 32170.37442, 1327.60891, 27538.41188, 5186.050003, 942.6542111, 579.2317429999999, 1201.637154, 3548.3308460000003, 39724.97867, 18008.94444, 36180.789189999996, 2452.210407, 3540.6515640000002, 11605.71449, 4471.061906, 40675.99635, 25523.2771, 28569.7197, 7320.880262000001, 31656.06806, 4519.461171, 1463.249282, 1593.06548, 23348.139730000003, 47306.98978, 10461.05868, 1569.331442, 414.5073415, 12057.49928, 1044.770126, 759.3499101, 12451.6558, 1042.581557, 1803.1514960000002, 10956.99112, 11977.57496, 3095.7722710000003, 9253.896111, 3820.17523, 823.6856205, 944.0, 4811.060429, 1091.359778, 36797.93332, 25185.00911, 2749.320965, 619.6768923999999, 2013.9773050000001, 49357.19017, 22316.19287, 2605.94758, 9809.185636, 4172.838464, 7408.905561, 3190.481016, 15389.924680000002, 20509.64777, 19328.70901, 7670.122558, 10808.47561, 863.0884639000001, 1598.435089, 21654.83194, 1712.4721359999999, 9786.534714, 862.5407561000001, 47143.179639999995, 18678.31435, 25768.25759, 926.1410683, 9269.657808, 28821.0637, 3970.0954070000003, 2602.394995, 4513.480643, 33859.74835, 37506.419069999996, 4184.548089, 28718.27684, 1107.482182, 7458.3963269999995, 882.9699437999999, 18008.50924, 7092.923025, 8458.276384, 1056.3801210000001, 33203.26128, 42951.65309, 10611.46299, 11415.805690000001, 2441.576404, 3025.349798, 2280.769906, 1271.211593, 469.70929810000007], \"xaxis\": \"x\", \"y\": [43.828, 76.423, 72.301, 42.731, 75.32, 81.235, 79.829, 75.635, 64.062, 79.441, 56.728, 65.554, 74.852, 50.728, 72.39, 73.005, 52.295, 49.58, 59.723, 50.43, 80.653, 44.74100000000001, 50.651, 78.553, 72.961, 72.889, 65.152, 46.461999999999996, 55.321999999999996, 78.782, 48.328, 75.748, 78.273, 76.486, 78.332, 54.791000000000004, 72.235, 74.994, 71.33800000000001, 71.878, 51.57899999999999, 58.04, 52.946999999999996, 79.313, 80.657, 56.735, 59.448, 79.406, 60.022, 79.483, 70.259, 56.007, 46.388000000000005, 60.916000000000004, 70.19800000000001, 82.208, 73.33800000000001, 81.757, 64.69800000000001, 70.65, 70.964, 59.545, 78.885, 80.745, 80.546, 72.567, 82.603, 72.535, 54.11, 67.297, 78.623, 77.58800000000001, 71.993, 42.592, 45.678000000000004, 73.952, 59.443000000000005, 48.303000000000004, 74.241, 54.467, 64.164, 72.801, 76.195, 66.803, 74.543, 71.164, 42.082, 62.068999999999996, 52.906000000000006, 63.785, 79.762, 80.204, 72.899, 56.867, 46.858999999999995, 80.196, 75.64, 65.483, 75.53699999999999, 71.752, 71.421, 71.688, 75.563, 78.098, 78.74600000000001, 76.442, 72.476, 46.242, 65.528, 72.777, 63.062, 74.002, 42.568000000000005, 79.972, 74.663, 77.926, 48.159, 49.339, 80.941, 72.396, 58.556000000000004, 39.613, 80.884, 81.70100000000001, 74.143, 78.4, 52.516999999999996, 70.616, 58.42, 69.819, 73.923, 71.777, 51.542, 79.425, 78.242, 76.384, 73.747, 74.249, 73.422, 62.698, 42.38399999999999, 43.486999999999995], \"yaxis\": \"y\"}],\n",
       "                        {\"grid\": {\"xaxes\": [\"x\"], \"xgap\": 0.1, \"xside\": \"bottom\", \"yaxes\": [\"y\"], \"ygap\": 0.1, \"yside\": \"left\"}, \"height\": 600, \"legend\": {\"tracegroupgap\": 0}, \"margin\": {\"t\": 60}, \"template\": {\"data\": {\"bar\": [{\"marker\": {\"line\": {\"color\": \"#E5ECF6\", \"width\": 0.5}}, \"type\": \"bar\"}], \"barpolar\": [{\"marker\": {\"line\": {\"color\": \"#E5ECF6\", \"width\": 0.5}}, \"type\": \"barpolar\"}], \"carpet\": [{\"aaxis\": {\"endlinecolor\": \"#2a3f5f\", \"gridcolor\": \"white\", \"linecolor\": \"white\", \"minorgridcolor\": \"white\", \"startlinecolor\": \"#2a3f5f\"}, \"baxis\": {\"endlinecolor\": \"#2a3f5f\", \"gridcolor\": \"white\", \"linecolor\": \"white\", \"minorgridcolor\": \"white\", \"startlinecolor\": \"#2a3f5f\"}, \"type\": \"carpet\"}], \"choropleth\": [{\"colorbar\": {\"outlinewidth\": 0, \"ticks\": \"\"}, \"type\": \"choropleth\"}], \"contour\": [{\"colorbar\": {\"outlinewidth\": 0, \"ticks\": \"\"}, \"colorscale\": [[0.0, \"#0508b8\"], [0.0893854748603352, \"#1910d8\"], [0.1787709497206704, \"#3c19f0\"], [0.2681564245810056, \"#6b1cfb\"], [0.3575418994413408, \"#981cfd\"], [0.44692737430167595, \"#bf1cfd\"], [0.5363128491620112, \"#dd2bfd\"], [0.6256983240223464, \"#f246fe\"], [0.7150837988826816, \"#fc67fd\"], [0.8044692737430168, \"#fe88fc\"], [0.8938547486033519, \"#fea5fd\"], [0.9832402234636871, \"#febefe\"], [1.0, \"#fec3fe\"]], \"type\": \"contour\"}], \"contourcarpet\": [{\"colorbar\": {\"outlinewidth\": 0, \"ticks\": \"\"}, \"type\": \"contourcarpet\"}], \"heatmap\": [{\"colorbar\": {\"outlinewidth\": 0, \"ticks\": \"\"}, \"colorscale\": [[0.0, \"#0508b8\"], [0.0893854748603352, \"#1910d8\"], [0.1787709497206704, \"#3c19f0\"], [0.2681564245810056, \"#6b1cfb\"], [0.3575418994413408, \"#981cfd\"], [0.44692737430167595, \"#bf1cfd\"], [0.5363128491620112, \"#dd2bfd\"], [0.6256983240223464, \"#f246fe\"], [0.7150837988826816, \"#fc67fd\"], [0.8044692737430168, \"#fe88fc\"], [0.8938547486033519, \"#fea5fd\"], [0.9832402234636871, \"#febefe\"], [1.0, \"#fec3fe\"]], \"type\": \"heatmap\"}], \"heatmapgl\": [{\"colorbar\": {\"outlinewidth\": 0, \"ticks\": \"\"}, \"type\": \"heatmapgl\"}], \"histogram\": [{\"marker\": {\"colorbar\": {\"outlinewidth\": 0, \"ticks\": \"\"}}, \"type\": \"histogram\"}], \"histogram2d\": [{\"colorbar\": {\"outlinewidth\": 0, \"ticks\": \"\"}, \"colorscale\": [[0.0, \"#0508b8\"], [0.0893854748603352, \"#1910d8\"], [0.1787709497206704, \"#3c19f0\"], [0.2681564245810056, \"#6b1cfb\"], [0.3575418994413408, \"#981cfd\"], [0.44692737430167595, \"#bf1cfd\"], [0.5363128491620112, \"#dd2bfd\"], [0.6256983240223464, \"#f246fe\"], [0.7150837988826816, \"#fc67fd\"], [0.8044692737430168, \"#fe88fc\"], [0.8938547486033519, \"#fea5fd\"], [0.9832402234636871, \"#febefe\"], [1.0, \"#fec3fe\"]], \"type\": \"histogram2d\"}], \"histogram2dcontour\": [{\"colorbar\": {\"outlinewidth\": 0, \"ticks\": \"\"}, \"colorscale\": [[0.0, \"#0508b8\"], [0.0893854748603352, \"#1910d8\"], [0.1787709497206704, \"#3c19f0\"], [0.2681564245810056, \"#6b1cfb\"], [0.3575418994413408, \"#981cfd\"], [0.44692737430167595, \"#bf1cfd\"], [0.5363128491620112, \"#dd2bfd\"], [0.6256983240223464, \"#f246fe\"], [0.7150837988826816, \"#fc67fd\"], [0.8044692737430168, \"#fe88fc\"], [0.8938547486033519, \"#fea5fd\"], [0.9832402234636871, \"#febefe\"], [1.0, \"#fec3fe\"]], \"type\": \"histogram2dcontour\"}], \"mesh3d\": [{\"colorbar\": {\"outlinewidth\": 0, \"ticks\": \"\"}, \"type\": \"mesh3d\"}], \"parcoords\": [{\"line\": {\"colorbar\": {\"outlinewidth\": 0, \"ticks\": \"\"}}, \"type\": \"parcoords\"}], \"scatter\": [{\"marker\": {\"colorbar\": {\"outlinewidth\": 0, \"ticks\": \"\"}}, \"type\": \"scatter\"}], \"scatter3d\": [{\"marker\": {\"colorbar\": {\"outlinewidth\": 0, \"ticks\": \"\"}}, \"type\": \"scatter3d\"}], \"scattercarpet\": [{\"marker\": {\"colorbar\": {\"outlinewidth\": 0, \"ticks\": \"\"}}, \"type\": \"scattercarpet\"}], \"scattergeo\": [{\"marker\": {\"colorbar\": {\"outlinewidth\": 0, \"ticks\": \"\"}}, \"type\": \"scattergeo\"}], \"scattergl\": [{\"marker\": {\"colorbar\": {\"outlinewidth\": 0, \"ticks\": \"\"}}, \"type\": \"scattergl\"}], \"scattermapbox\": [{\"marker\": {\"colorbar\": {\"outlinewidth\": 0, \"ticks\": \"\"}}, \"type\": \"scattermapbox\"}], \"scatterpolar\": [{\"marker\": {\"colorbar\": {\"outlinewidth\": 0, \"ticks\": \"\"}}, \"type\": \"scatterpolar\"}], \"scatterpolargl\": [{\"marker\": {\"colorbar\": {\"outlinewidth\": 0, \"ticks\": \"\"}}, \"type\": \"scatterpolargl\"}], \"scatterternary\": [{\"marker\": {\"colorbar\": {\"outlinewidth\": 0, \"ticks\": \"\"}}, \"type\": \"scatterternary\"}], \"surface\": [{\"colorbar\": {\"outlinewidth\": 0, \"ticks\": \"\"}, \"type\": \"surface\"}], \"table\": [{\"cells\": {\"fill\": {\"color\": \"#EBF0F8\"}, \"line\": {\"color\": \"white\"}}, \"header\": {\"fill\": {\"color\": \"#C8D4E3\"}, \"line\": {\"color\": \"white\"}}, \"type\": \"table\"}]}, \"layout\": {\"annotationdefaults\": {\"arrowcolor\": \"#506784\", \"arrowhead\": 0, \"arrowwidth\": 1}, \"colorscale\": {\"diverging\": [[0, \"#8e0152\"], [0.1, \"#c51b7d\"], [0.2, \"#de77ae\"], [0.3, \"#f1b6da\"], [0.4, \"#fde0ef\"], [0.5, \"#f7f7f7\"], [0.6, \"#e6f5d0\"], [0.7, \"#b8e186\"], [0.8, \"#7fbc41\"], [0.9, \"#4d9221\"], [1, \"#276419\"]], \"sequential\": [[0.0, \"#0508b8\"], [0.0893854748603352, \"#1910d8\"], [0.1787709497206704, \"#3c19f0\"], [0.2681564245810056, \"#6b1cfb\"], [0.3575418994413408, \"#981cfd\"], [0.44692737430167595, \"#bf1cfd\"], [0.5363128491620112, \"#dd2bfd\"], [0.6256983240223464, \"#f246fe\"], [0.7150837988826816, \"#fc67fd\"], [0.8044692737430168, \"#fe88fc\"], [0.8938547486033519, \"#fea5fd\"], [0.9832402234636871, \"#febefe\"], [1.0, \"#fec3fe\"]], \"sequentialminus\": [[0.0, \"#0508b8\"], [0.0893854748603352, \"#1910d8\"], [0.1787709497206704, \"#3c19f0\"], [0.2681564245810056, \"#6b1cfb\"], [0.3575418994413408, \"#981cfd\"], [0.44692737430167595, \"#bf1cfd\"], [0.5363128491620112, \"#dd2bfd\"], [0.6256983240223464, \"#f246fe\"], [0.7150837988826816, \"#fc67fd\"], [0.8044692737430168, \"#fe88fc\"], [0.8938547486033519, \"#fea5fd\"], [0.9832402234636871, \"#febefe\"], [1.0, \"#fec3fe\"]]}, \"colorway\": [\"#636efa\", \"#EF553B\", \"#00cc96\", \"#ab63fa\", \"#19d3f3\", \"#e763fa\", \"#FECB52\", \"#FFA15A\", \"#FF6692\", \"#B6E880\"], \"font\": {\"color\": \"#2a3f5f\"}, \"geo\": {\"bgcolor\": \"white\", \"lakecolor\": \"white\", \"landcolor\": \"#E5ECF6\", \"showlakes\": true, \"showland\": true, \"subunitcolor\": \"white\"}, \"hoverlabel\": {\"align\": \"left\"}, \"hovermode\": \"closest\", \"mapbox\": {\"style\": \"light\"}, \"paper_bgcolor\": \"white\", \"plot_bgcolor\": \"#E5ECF6\", \"polar\": {\"angularaxis\": {\"gridcolor\": \"white\", \"linecolor\": \"white\", \"ticks\": \"\"}, \"bgcolor\": \"#E5ECF6\", \"radialaxis\": {\"gridcolor\": \"white\", \"linecolor\": \"white\", \"ticks\": \"\"}}, \"scene\": {\"xaxis\": {\"backgroundcolor\": \"#E5ECF6\", \"gridcolor\": \"white\", \"gridwidth\": 2, \"linecolor\": \"white\", \"showbackground\": true, \"ticks\": \"\", \"zerolinecolor\": \"white\"}, \"yaxis\": {\"backgroundcolor\": \"#E5ECF6\", \"gridcolor\": \"white\", \"gridwidth\": 2, \"linecolor\": \"white\", \"showbackground\": true, \"ticks\": \"\", \"zerolinecolor\": \"white\"}, \"zaxis\": {\"backgroundcolor\": \"#E5ECF6\", \"gridcolor\": \"white\", \"gridwidth\": 2, \"linecolor\": \"white\", \"showbackground\": true, \"ticks\": \"\", \"zerolinecolor\": \"white\"}}, \"shapedefaults\": {\"fillcolor\": \"#506784\", \"line\": {\"width\": 0}, \"opacity\": 0.4}, \"ternary\": {\"aaxis\": {\"gridcolor\": \"white\", \"linecolor\": \"white\", \"ticks\": \"\"}, \"baxis\": {\"gridcolor\": \"white\", \"linecolor\": \"white\", \"ticks\": \"\"}, \"bgcolor\": \"#E5ECF6\", \"caxis\": {\"gridcolor\": \"white\", \"linecolor\": \"white\", \"ticks\": \"\"}}, \"title\": {\"x\": 0.05}, \"xaxis\": {\"automargin\": true, \"gridcolor\": \"white\", \"linecolor\": \"white\", \"ticks\": \"\", \"zerolinecolor\": \"white\", \"zerolinewidth\": 2}, \"yaxis\": {\"automargin\": true, \"gridcolor\": \"white\", \"linecolor\": \"white\", \"ticks\": \"\", \"zerolinecolor\": \"white\", \"zerolinewidth\": 2}}}, \"xaxis\": {\"title\": {\"text\": \"gdpPercap\"}}, \"yaxis\": {\"title\": {\"text\": \"lifeExp\"}}},\n",
       "                        {\"showLink\": false, \"linkText\": \"Export to plot.ly\", \"plotlyServerURL\": \"https://plot.ly\", \"responsive\": true}\n",
       "                    ).then(function(){\n",
       "                            \n",
       "var gd = document.getElementById('cc54ad2d-ae5b-4760-aaf9-5617afd98595');\n",
       "var x = new MutationObserver(function (mutations, observer) {{\n",
       "        var display = window.getComputedStyle(gd).display;\n",
       "        if (!display || display === 'none') {{\n",
       "            console.log([gd, 'removed!']);\n",
       "            Plotly.purge(gd);\n",
       "            observer.disconnect();\n",
       "        }}\n",
       "}});\n",
       "\n",
       "// Listen for the removal of the full notebook cells\n",
       "var notebookContainer = gd.closest('#notebook-container');\n",
       "if (notebookContainer) {{\n",
       "    x.observe(notebookContainer, {childList: true});\n",
       "}}\n",
       "\n",
       "// Listen for the clearing of the current output cell\n",
       "var outputEl = gd.closest('.output');\n",
       "if (outputEl) {{\n",
       "    x.observe(outputEl, {childList: true});\n",
       "}}\n",
       "\n",
       "                        })\n",
       "                };\n",
       "                });\n",
       "            </script>\n",
       "        </div>"
      ]
     },
     "metadata": {},
     "output_type": "display_data"
    }
   ],
   "source": [
    "\n",
    "\n",
    "import plotly_express as px\n",
    "gapminder = px.data.gapminder()\n",
    "gapminder2007 = gapminder.query(\"year == 2007\")\n",
    "\n",
    "px.scatter(gapminder2007, x=\"gdpPercap\", y=\"lifeExp\")\n",
    "\n"
   ]
  },
  {
   "cell_type": "code",
   "execution_count": null,
   "metadata": {},
   "outputs": [],
   "source": []
  },
  {
   "cell_type": "code",
   "execution_count": null,
   "metadata": {},
   "outputs": [],
   "source": []
  },
  {
   "cell_type": "code",
   "execution_count": null,
   "metadata": {},
   "outputs": [],
   "source": []
  },
  {
   "cell_type": "code",
   "execution_count": 617,
   "metadata": {},
   "outputs": [
    {
     "data": {
      "application/vnd.jupyter.widget-view+json": {
       "model_id": "c2a07af7b184460fb8cd2a350d2e2a1e",
       "version_major": 2,
       "version_minor": 0
      },
      "text/plain": [
       "FigureWidget({\n",
       "    'data': [{'marker': {'size': array([  31889923,    3600523,   33333216,   12420476,   40301…"
      ]
     },
     "metadata": {},
     "output_type": "display_data"
    }
   ],
   "source": [
    "go.FigureWidget(\n",
    "    data=[\n",
    "        go.Scatter(\n",
    "            x=gapminder2007['gdpPercap'],\n",
    "            y=gapminder2007['lifeExp'],\n",
    "            marker=dict( \n",
    "                symbol='circle',\n",
    "                size=gapminder2007['pop'].values, \n",
    "                sizemode='area', \n",
    "                sizeref=366300.85999999999),\n",
    "            mode='markers'\n",
    "        )\n",
    "    ]\n",
    ")"
   ]
  },
  {
   "cell_type": "code",
   "execution_count": 677,
   "metadata": {},
   "outputs": [],
   "source": [
    "t = {'data': {'scatter': [{'mode': 'markers'}]}}"
   ]
  },
  {
   "cell_type": "code",
   "execution_count": 793,
   "metadata": {},
   "outputs": [
    {
     "data": {
      "text/plain": [
       "<__main__.PlotlyAccessor at 0x7f9e6f0464a8>"
      ]
     },
     "execution_count": 793,
     "metadata": {},
     "output_type": "execute_result"
    }
   ],
   "source": [
    "gapminder2007.plot.init()\n",
    "gapminder2007.plot.groupby('continent')\n",
    "(gapminder2007.plot\n",
    " .add_scatter(x='gdpPercap', y='lifeExp')\n",
    " .add_template(t)\n",
    " .add_image(\n",
    "     source=\"https://raw.githubusercontent.com/michaelbabyn/plot_data/master/naphthalene.png\",\n",
    "     template='watermark')\n",
    ")"
   ]
  },
  {
   "cell_type": "code",
   "execution_count": 794,
   "metadata": {},
   "outputs": [
    {
     "data": {
      "application/vnd.jupyter.widget-view+json": {
       "model_id": "2556e866b51d48799214090c47756497",
       "version_major": 2,
       "version_minor": 0
      },
      "text/plain": [
       "FigureWidget({\n",
       "    'data': [{'name': 'Africa',\n",
       "              'type': 'scatter',\n",
       "              'uid': '43a4977b…"
      ]
     },
     "metadata": {},
     "output_type": "display_data"
    }
   ],
   "source": [
    "gapminder2007.plot.show()"
   ]
  },
  {
   "cell_type": "code",
   "execution_count": 600,
   "metadata": {},
   "outputs": [],
   "source": [
    "a = gapminder2007['pop']-gapminder2007['pop'].min()\n",
    "b = a/a.max()*(60-5)+5\n"
   ]
  },
  {
   "cell_type": "code",
   "execution_count": 598,
   "metadata": {},
   "outputs": [
    {
     "data": {
      "text/plain": [
       "10.0"
      ]
     },
     "execution_count": 598,
     "metadata": {},
     "output_type": "execute_result"
    }
   ],
   "source": [
    "b.min()"
   ]
  },
  {
   "cell_type": "code",
   "execution_count": 566,
   "metadata": {},
   "outputs": [
    {
     "data": {
      "text/plain": [
       "{'marker': {'size': 10, 'foo': 'bar'}, 'name': 'foo'}"
      ]
     },
     "execution_count": 566,
     "metadata": {},
     "output_type": "execute_result"
    }
   ],
   "source": [
    "foo = dict(marker=dict(size=10, foo='bar'), name='foo')\n",
    "foo"
   ]
  },
  {
   "cell_type": "code",
   "execution_count": 570,
   "metadata": {},
   "outputs": [
    {
     "data": {
      "text/plain": [
       "{'marker': {'size': 11}, 'name': 'bar'}"
      ]
     },
     "execution_count": 570,
     "metadata": {},
     "output_type": "execute_result"
    }
   ],
   "source": [
    "foo.update(marker=dict(size=11))\n",
    "foo"
   ]
  },
  {
   "cell_type": "code",
   "execution_count": null,
   "metadata": {},
   "outputs": [],
   "source": []
  }
 ],
 "metadata": {
  "celltoolbar": "Slideshow",
  "kernelspec": {
   "display_name": "Python 3",
   "language": "python",
   "name": "python3"
  },
  "language_info": {
   "codemirror_mode": {
    "name": "ipython",
    "version": 3
   },
   "file_extension": ".py",
   "mimetype": "text/x-python",
   "name": "python",
   "nbconvert_exporter": "python",
   "pygments_lexer": "ipython3",
   "version": "3.6.8"
  },
  "rise": {
   "scroll": true,
   "theme": "white",
   "transition": "slide"
  }
 },
 "nbformat": 4,
 "nbformat_minor": 2
}
